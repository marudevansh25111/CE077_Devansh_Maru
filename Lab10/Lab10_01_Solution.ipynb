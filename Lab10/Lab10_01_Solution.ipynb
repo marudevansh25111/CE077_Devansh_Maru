{
  "cells": [
    {
      "cell_type": "markdown",
      "metadata": {
        "id": "YxO2HEte-sWH"
      },
      "source": [
        " To build an ANN model for performing classification on a given MNIST dataset."
      ]
    },
    {
      "cell_type": "code",
      "execution_count": 1,
      "metadata": {
        "id": "MTU3-EAy-sWQ"
      },
      "outputs": [],
      "source": [
        "import matplotlib.pyplot as plt\n",
        "import numpy as np\n",
        "import pandas as pd\n",
        "import torch\n",
        "import torch.nn as nn\n",
        "from torch.autograd import Variable\n",
        "from torch.utils.data import DataLoader\n",
        "import tensorflow as tf\n",
        "from sklearn.model_selection import train_test_split"
      ]
    },
    {
      "cell_type": "code",
      "execution_count": 2,
      "metadata": {
        "colab": {
          "base_uri": "https://localhost:8080/"
        },
        "id": "8kmAHWmE-sWU",
        "outputId": "67c4ab15-189a-4844-d473-d65c7cb5bc74"
      },
      "outputs": [
        {
          "output_type": "stream",
          "name": "stdout",
          "text": [
            "Downloading data from https://storage.googleapis.com/tensorflow/tf-keras-datasets/mnist.npz\n",
            "11493376/11490434 [==============================] - 0s 0us/step\n",
            "11501568/11490434 [==============================] - 0s 0us/step\n",
            "[[0. 0. 0. ... 0. 0. 0.]\n",
            " [0. 0. 0. ... 0. 0. 0.]\n",
            " [0. 0. 0. ... 0. 0. 0.]\n",
            " ...\n",
            " [0. 0. 0. ... 0. 0. 0.]\n",
            " [0. 0. 0. ... 0. 0. 0.]\n",
            " [0. 0. 0. ... 0. 0. 0.]]\n",
            "[5 0 4 ... 5 6 8]\n"
          ]
        }
      ],
      "source": [
        "from tensorflow.keras.datasets import mnist\n",
        "(features_train, targets_train), (features_test, targets_test) = mnist.load_data()\n",
        "features_train, features_test = np.array(features_train, np.float32), np.array(features_test, np.float32)\n",
        "features_train, features_test = features_train.reshape([-1, 784]), features_test.reshape([-1, 784])\n",
        "features_train, features_test = features_train / 255., features_test / 255.\n",
        "print(features_train)\n",
        "print(targets_train)\n"
      ]
    },
    {
      "cell_type": "code",
      "execution_count": 3,
      "metadata": {
        "id": "EzrK-q6B-sWW"
      },
      "outputs": [],
      "source": [
        "#  create feature and targets tensor for train set\n",
        "torch_x_train = torch.from_numpy(features_train)\n",
        "torch_y_train = torch.from_numpy(targets_train)\n",
        "# create feature and targets tensor for test set.\n",
        "torch_x_test = torch.from_numpy(features_test)\n",
        "torch_y_test = torch.from_numpy(targets_test)"
      ]
    },
    {
      "cell_type": "code",
      "execution_count": 4,
      "metadata": {
        "id": "wi352HTf-sWY"
      },
      "outputs": [],
      "source": [
        "from  torch.utils.data import TensorDataset\n",
        "batch_size = 100\n",
        "n_iters = 5000\n",
        "num_epochs = n_iters / (len(features_train) / batch_size)\n",
        "num_epochs = int(num_epochs)\n",
        "# Pytorch train and test sets - Tensordataset\n",
        "train_data=TensorDataset(torch_x_train,torch_y_train)\n",
        "test_data=TensorDataset(torch_x_test,torch_y_test)"
      ]
    },
    {
      "cell_type": "code",
      "execution_count": 5,
      "metadata": {
        "colab": {
          "base_uri": "https://localhost:8080/",
          "height": 282
        },
        "id": "uad0g5cT-sWZ",
        "outputId": "847f7c66-a641-4467-eb50-3ce304de8dda"
      },
      "outputs": [
        {
          "output_type": "execute_result",
          "data": {
            "text/plain": [
              "Text(0.5, 1.0, '4')"
            ]
          },
          "metadata": {},
          "execution_count": 5
        },
        {
          "output_type": "display_data",
          "data": {
            "text/plain": [
              "<Figure size 432x288 with 1 Axes>"
            ],
            "image/png": "[encoded data removed]"
          },
          "metadata": {
            "needs_background": "light"
          }
        }
      ],
      "source": [
        "# data loader\n",
        "train_loader = torch.utils.data.DataLoader(dataset=train_data, batch_size=batch_size, shuffle=False)\n",
        "test_loader = torch.utils.data.DataLoader(dataset=test_data, batch_size=batch_size,shuffle=False)\n",
        "plt.imshow(features_train[2].reshape(28,28))\n",
        "plt.axis('off')\n",
        "plt.title(str(targets_train[2]))"
      ]
    },
    {
      "cell_type": "code",
      "execution_count": 6,
      "metadata": {
        "colab": {
          "base_uri": "https://localhost:8080/"
        },
        "id": "dvz2uY8J-sWe",
        "outputId": "12c2fa07-7cb1-426c-d074-67710d588c45"
      },
      "outputs": [
        {
          "output_type": "stream",
          "name": "stdout",
          "text": [
            "ANNModel(\n",
            "  (layer1): Linear(in_features=784, out_features=150, bias=True)\n",
            "  (layer2): Linear(in_features=150, out_features=150, bias=True)\n",
            "  (layer3): Linear(in_features=150, out_features=10, bias=True)\n",
            "  (relu): ReLU()\n",
            ")\n"
          ]
        }
      ],
      "source": [
        "# Create ANN Model\n",
        "class ANNModel(nn.Module):\n",
        "    def __init__(self, input_dim, hidden_dim, output_dim):\n",
        "        super(ANNModel, self).__init__()\n",
        "        self.layer1 = nn.Linear(input_dim, hidden_dim)\n",
        "        self.layer2 = nn.Linear(hidden_dim, hidden_dim)\n",
        "        self.layer3 = nn.Linear(hidden_dim, output_dim)\n",
        "        self.relu = nn.ReLU()\n",
        "    def forward(self, x):\n",
        "        # HL1 with relu activation\n",
        "        out = self.relu(self.layer1(x))\n",
        "        # HL2 with relu activation\n",
        "        out = self.relu(self.layer2(out))\n",
        "        # Output layer with LogSoftmax activation\n",
        "        out = self.layer3(out)\n",
        "        return out\n",
        "# instantiate ANN\n",
        "input_dim = 28*28\n",
        "hidden_dim = 150 \n",
        "output_dim = 10\n",
        "# Create ANN\n",
        "model = ANNModel(input_dim, hidden_dim, output_dim)\n",
        "print(model)\n",
        "# Cross Entropy Loss\n",
        "loss = nn.CrossEntropyLoss()\n",
        "# SGD Optimizer\n",
        "learning_rate = 0.02\n",
        "optimizer = torch.optim.SGD(model.parameters(), lr=learning_rate)\n"
      ]
    },
    {
      "cell_type": "code",
      "execution_count": 7,
      "metadata": {
        "colab": {
          "base_uri": "https://localhost:8080/"
        },
        "id": "1fofCjA7-sWj",
        "outputId": "226e8983-b2e6-4b37-e749-1d05ed45c42b"
      },
      "outputs": [
        {
          "output_type": "stream",
          "name": "stdout",
          "text": [
            "Iteration: 500 Loss: 0.7607753276824951 Accuracy: 80.0 %\n",
            "Iteration: 1000 Loss: 0.517021119594574 Accuracy: 87.0 %\n",
            "Iteration: 1500 Loss: 0.5462396740913391 Accuracy: 86.0 %\n",
            "Iteration: 2000 Loss: 0.2968066334724426 Accuracy: 90.0 %\n",
            "Iteration: 2500 Loss: 0.2017800509929657 Accuracy: 90.0 %\n",
            "Iteration: 3000 Loss: 0.32247915863990784 Accuracy: 89.0 %\n",
            "Iteration: 3500 Loss: 0.24941959977149963 Accuracy: 91.0 %\n",
            "Iteration: 4000 Loss: 0.2786637842655182 Accuracy: 91.0 %\n",
            "Iteration: 4500 Loss: 0.4017125368118286 Accuracy: 91.0 %\n"
          ]
        }
      ],
      "source": [
        "# ANN model training\n",
        "count = 0\n",
        "loss_list = []\n",
        "iteration_list = []\n",
        "accuracy_list = []\n",
        "for epoch in range(num_epochs):\n",
        "    for i, (images, labels) in enumerate(train_loader):\n",
        "        train = Variable(images.view(-1, 28*28))\n",
        "        labels = Variable(labels)\n",
        "        # Clear gradients\n",
        "        optimizer.zero_grad()\n",
        "        # Forward propagation\n",
        "        output=model(train)\n",
        "        # Calculate softmax and cross entropy loss\n",
        "        error = loss(output, labels)\n",
        "        # Calculating gradients\n",
        "        error.backward()\n",
        "        # Update parameters\n",
        "        optimizer.step()\n",
        "        count += 1\n",
        "        if count % 50 == 0:\n",
        "            # Calculate Accuracy\n",
        "            correct = 0\n",
        "            total = 0\n",
        "            predicted=[]\n",
        "            # Predict test dataset\n",
        "            for images, labels in test_loader:\n",
        "                test = Variable(images.view(-1, 28*28))\n",
        "                # Forward propagation\n",
        "                output=model(test)\n",
        "                # Get predictions from the maximum value\n",
        "                total=len(labels)\n",
        "                # Total correct predictions\n",
        "                prediction= torch.max(output.data, 1)[1]\n",
        "                correct=(prediction==labels).sum()\n",
        "            accuracy = 100 * correct / float(total)\n",
        "            # store loss and iteration\n",
        "            loss_list.append(error.data)\n",
        "            iteration_list.append(count)\n",
        "            accuracy_list.append(accuracy)\n",
        "        if count % 500 == 0:\n",
        "            print('Iteration: {} Loss: {} Accuracy: {} %'.format(count, error.data, accuracy))\n"
      ]
    },
    {
      "cell_type": "code",
      "execution_count": 8,
      "metadata": {
        "colab": {
          "base_uri": "https://localhost:8080/",
          "height": 573
        },
        "id": "V6_ApILI-sWo",
        "outputId": "924cdde7-f9fd-41e7-8dd9-3d10a051acda"
      },
      "outputs": [
        {
          "output_type": "display_data",
          "data": {
            "text/plain": [
              "<Figure size 432x288 with 1 Axes>"
            ],
            "image/png": "[encoded data removed]"
          },
          "metadata": {
            "needs_background": "light"
          }
        },
        {
          "output_type": "display_data",
          "data": {
            "text/plain": [
              "<Figure size 432x288 with 1 Axes>"
            ],
            "image/png": "[encoded data removed]"
          },
          "metadata": {
            "needs_background": "light"
          }
        }
      ],
      "source": [
        "# visualization loss\n",
        "plt.plot(iteration_list,loss_list)\n",
        "plt.xlabel(\"Number of iteration\")\n",
        "plt.ylabel(\"Loss\")\n",
        "plt.title(\"ANN: Loss vs Number of iteration\")\n",
        "plt.show()\n",
        "# visualization accuracy\n",
        "plt.plot(iteration_list,accuracy_list,color = \"red\")\n",
        "plt.xlabel(\"Number of iteration\")\n",
        "plt.ylabel(\"Accuracy\")\n",
        "plt.title(\"ANN: Accuracy vs Number of iteration\")\n",
        "plt.show()\n"
      ]
    },
    {
      "cell_type": "markdown",
      "source": [
        "Apply SVM on MNIST Dataset"
      ],
      "metadata": {
        "id": "gfeELiijAeLC"
      }
    },
    {
      "cell_type": "code",
      "source": [
        "import numpy as np\n",
        "import pandas as pd\n",
        "from sklearn import svm\n",
        "import matplotlib.pyplot as plt\n",
        "from sklearn.model_selection import train_test_split\n",
        "%matplotlib inline"
      ],
      "metadata": {
        "id": "ehFHLsJHAe9P"
      },
      "execution_count": 9,
      "outputs": []
    },
    {
      "cell_type": "code",
      "source": [
        "from tensorflow.keras.datasets import mnist\n",
        "(features_train, targets_train), (features_test, targets_test) = mnist.load_data()\n",
        "features_train, features_test = features_train.reshape([-1, 784]), features_test.reshape([-1, 784])\n",
        "features_train, features_test = features_train / 255., features_test / 255.\n",
        "print(features_train.shape)\n",
        "print(features_test.shape)\n",
        "print(targets_train.shape)\n",
        "print(targets_test.shape)"
      ],
      "metadata": {
        "colab": {
          "base_uri": "https://localhost:8080/"
        },
        "id": "yAmG-xOMAiAC",
        "outputId": "d016239a-f9a9-4075-e267-c1cb4bf944d7"
      },
      "execution_count": 10,
      "outputs": [
        {
          "output_type": "stream",
          "name": "stdout",
          "text": [
            "(60000, 784)\n",
            "(10000, 784)\n",
            "(60000,)\n",
            "(10000,)\n"
          ]
        }
      ]
    },
    {
      "cell_type": "code",
      "source": [
        "svm_classifier = svm.SVC()\n",
        "svm_classifier.fit(features_train[:5000], targets_train[:5000])"
      ],
      "metadata": {
        "colab": {
          "base_uri": "https://localhost:8080/"
        },
        "id": "OjuglVKeAmYN",
        "outputId": "f85f2240-af60-4110-a3bd-7a23b04959ed"
      },
      "execution_count": 11,
      "outputs": [
        {
          "output_type": "execute_result",
          "data": {
            "text/plain": [
              "SVC()"
            ]
          },
          "metadata": {},
          "execution_count": 11
        }
      ]
    },
    {
      "cell_type": "code",
      "source": [
        "prediction = svm_classifier.predict(features_test)\n",
        "print(prediction)"
      ],
      "metadata": {
        "colab": {
          "base_uri": "https://localhost:8080/"
        },
        "id": "u3BkCY2YAoQZ",
        "outputId": "b781ad30-1255-4cbe-de68-949e305e0512"
      },
      "execution_count": 12,
      "outputs": [
        {
          "output_type": "stream",
          "name": "stdout",
          "text": [
            "[7 2 1 ... 4 5 6]\n"
          ]
        }
      ]
    },
    {
      "cell_type": "code",
      "source": [
        "from sklearn.metrics import accuracy_score\n",
        "\n",
        "print(\"Accuracy - {}%\".format(accuracy_score(y_pred=prediction, y_true=targets_test)*100))"
      ],
      "metadata": {
        "colab": {
          "base_uri": "https://localhost:8080/"
        },
        "id": "mKowXIiOAsE9",
        "outputId": "9656e59d-547f-4f6a-9f83-b7885d6b5bd1"
      },
      "execution_count": 13,
      "outputs": [
        {
          "output_type": "stream",
          "name": "stdout",
          "text": [
            "Accuracy - 95.13000000000001%\n"
          ]
        }
      ]
    }
  ],
  "metadata": {
    "interpreter": {
      "hash": "e2a7c3d20469dda411fd3211f02092a920078d1ca97c72d3dc7928b841d3a44a"
    },
    "kernelspec": {
      "display_name": "Python 3.9.0 64-bit",
      "language": "python",
      "name": "python3"
    },
    "language_info": {
      "codemirror_mode": {
        "name": "ipython",
        "version": 3
      },
      "file_extension": ".py",
      "mimetype": "text/x-python",
      "name": "python",
      "nbconvert_exporter": "python",
      "pygments_lexer": "ipython3",
      "version": "3.9.0"
    },
    "orig_nbformat": 4,
    "colab": {
      "name": "Lab10_01_Solution.ipynb",
      "provenance": [],
      "collapsed_sections": []
    }
  },
  "nbformat": 4,
  "nbformat_minor": 0
}