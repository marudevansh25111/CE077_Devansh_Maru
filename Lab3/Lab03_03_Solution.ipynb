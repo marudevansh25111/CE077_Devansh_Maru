{
  "nbformat": 4,
  "nbformat_minor": 0,
  "metadata": {
    "colab": {
      "name": "ML-Lab3.ipynb",
      "provenance": [],
      "collapsed_sections": [
        "FSbw_HqOMtGB"
      ]
    },
    "kernelspec": {
      "name": "python3",
      "display_name": "Python 3"
    },
    "language_info": {
      "name": "python"
    }
  },
  "cells": [
    {
      "cell_type": "markdown",
      "source": [
        "# **Task 1: Try the algo on Dataset2 - OneHotEncoding of features: and Train test Division 75%-25%**"
      ],
      "metadata": {
        "id": "_AITfKDiySDM"
      }
    },
    {
      "cell_type": "code",
      "execution_count": 17,
      "metadata": {
        "colab": {
          "base_uri": "https://localhost:8080/",
          "height": 488
        },
        "id": "42JGODKQxQOn",
        "outputId": "92212fba-e9a0-4138-8757-a9331553a833"
      },
      "outputs": [
        {
          "output_type": "execute_result",
          "data": {
            "text/html": [
              "\n",
              "  <div id=\"df-3c6893b8-1ff5-4569-aa14-715bbeafa64a\">\n",
              "    <div class=\"colab-df-container\">\n",
              "      <div>\n",
              "<style scoped>\n",
              "    .dataframe tbody tr th:only-of-type {\n",
              "        vertical-align: middle;\n",
              "    }\n",
              "\n",
              "    .dataframe tbody tr th {\n",
              "        vertical-align: top;\n",
              "    }\n",
              "\n",
              "    .dataframe thead th {\n",
              "        text-align: right;\n",
              "    }\n",
              "</style>\n",
              "<table border=\"1\" class=\"dataframe\">\n",
              "  <thead>\n",
              "    <tr style=\"text-align: right;\">\n",
              "      <th></th>\n",
              "      <th>Outlook</th>\n",
              "      <th>Temp</th>\n",
              "      <th>Wind</th>\n",
              "      <th>Humidity</th>\n",
              "      <th>Class</th>\n",
              "    </tr>\n",
              "  </thead>\n",
              "  <tbody>\n",
              "    <tr>\n",
              "      <th>0</th>\n",
              "      <td>R</td>\n",
              "      <td>H</td>\n",
              "      <td>F</td>\n",
              "      <td>Normal</td>\n",
              "      <td>N</td>\n",
              "    </tr>\n",
              "    <tr>\n",
              "      <th>1</th>\n",
              "      <td>R</td>\n",
              "      <td>H</td>\n",
              "      <td>T</td>\n",
              "      <td>High</td>\n",
              "      <td>N</td>\n",
              "    </tr>\n",
              "    <tr>\n",
              "      <th>2</th>\n",
              "      <td>O</td>\n",
              "      <td>H</td>\n",
              "      <td>F</td>\n",
              "      <td>Normal</td>\n",
              "      <td>Y</td>\n",
              "    </tr>\n",
              "    <tr>\n",
              "      <th>3</th>\n",
              "      <td>S</td>\n",
              "      <td>M</td>\n",
              "      <td>F</td>\n",
              "      <td>Normal</td>\n",
              "      <td>N</td>\n",
              "    </tr>\n",
              "    <tr>\n",
              "      <th>4</th>\n",
              "      <td>S</td>\n",
              "      <td>M</td>\n",
              "      <td>F</td>\n",
              "      <td>Normal</td>\n",
              "      <td>Y</td>\n",
              "    </tr>\n",
              "    <tr>\n",
              "      <th>5</th>\n",
              "      <td>S</td>\n",
              "      <td>M</td>\n",
              "      <td>T</td>\n",
              "      <td>Low</td>\n",
              "      <td>Y</td>\n",
              "    </tr>\n",
              "    <tr>\n",
              "      <th>6</th>\n",
              "      <td>O</td>\n",
              "      <td>C</td>\n",
              "      <td>T</td>\n",
              "      <td>Normal</td>\n",
              "      <td>Y</td>\n",
              "    </tr>\n",
              "    <tr>\n",
              "      <th>7</th>\n",
              "      <td>R</td>\n",
              "      <td>C</td>\n",
              "      <td>F</td>\n",
              "      <td>Normal</td>\n",
              "      <td>Y</td>\n",
              "    </tr>\n",
              "    <tr>\n",
              "      <th>8</th>\n",
              "      <td>R</td>\n",
              "      <td>C</td>\n",
              "      <td>F</td>\n",
              "      <td>Low</td>\n",
              "      <td>Y</td>\n",
              "    </tr>\n",
              "    <tr>\n",
              "      <th>9</th>\n",
              "      <td>S</td>\n",
              "      <td>M</td>\n",
              "      <td>F</td>\n",
              "      <td>High</td>\n",
              "      <td>Y</td>\n",
              "    </tr>\n",
              "    <tr>\n",
              "      <th>10</th>\n",
              "      <td>R</td>\n",
              "      <td>M</td>\n",
              "      <td>T</td>\n",
              "      <td>High</td>\n",
              "      <td>Y</td>\n",
              "    </tr>\n",
              "    <tr>\n",
              "      <th>11</th>\n",
              "      <td>O</td>\n",
              "      <td>M</td>\n",
              "      <td>T</td>\n",
              "      <td>Low</td>\n",
              "      <td>Y</td>\n",
              "    </tr>\n",
              "    <tr>\n",
              "      <th>12</th>\n",
              "      <td>O</td>\n",
              "      <td>H</td>\n",
              "      <td>F</td>\n",
              "      <td>Normal</td>\n",
              "      <td>Y</td>\n",
              "    </tr>\n",
              "    <tr>\n",
              "      <th>13</th>\n",
              "      <td>S</td>\n",
              "      <td>M</td>\n",
              "      <td>T</td>\n",
              "      <td>Normal</td>\n",
              "      <td>N</td>\n",
              "    </tr>\n",
              "  </tbody>\n",
              "</table>\n",
              "</div>\n",
              "      <button class=\"colab-df-convert\" onclick=\"convertToInteractive('df-3c6893b8-1ff5-4569-aa14-715bbeafa64a')\"\n",
              "              title=\"Convert this dataframe to an interactive table.\"\n",
              "              style=\"display:none;\">\n",
              "        \n",
              "  <svg xmlns=\"http://www.w3.org/2000/svg\" height=\"24px\"viewBox=\"0 0 24 24\"\n",
              "       width=\"24px\">\n",
              "    <path d=\"M0 0h24v24H0V0z\" fill=\"none\"/>\n",
              "    <path d=\"M18.56 5.44l.94 2.06.94-2.06 2.06-.94-2.06-.94-.94-2.06-.94 2.06-2.06.94zm-11 1L8.5 8.5l.94-2.06 2.06-.94-2.06-.94L8.5 2.5l-.94 2.06-2.06.94zm10 10l.94 2.06.94-2.06 2.06-.94-2.06-.94-.94-2.06-.94 2.06-2.06.94z\"/><path d=\"M17.41 7.96l-1.37-1.37c-.4-.4-.92-.59-1.43-.59-.52 0-1.04.2-1.43.59L10.3 9.45l-7.72 7.72c-.78.78-.78 2.05 0 2.83L4 21.41c.39.39.9.59 1.41.59.51 0 1.02-.2 1.41-.59l7.78-7.78 2.81-2.81c.8-.78.8-2.07 0-2.86zM5.41 20L4 18.59l7.72-7.72 1.47 1.35L5.41 20z\"/>\n",
              "  </svg>\n",
              "      </button>\n",
              "      \n",
              "  <style>\n",
              "    .colab-df-container {\n",
              "      display:flex;\n",
              "      flex-wrap:wrap;\n",
              "      gap: 12px;\n",
              "    }\n",
              "\n",
              "    .colab-df-convert {\n",
              "      background-color: #E8F0FE;\n",
              "      border: none;\n",
              "      border-radius: 50%;\n",
              "      cursor: pointer;\n",
              "      display: none;\n",
              "      fill: #1967D2;\n",
              "      height: 32px;\n",
              "      padding: 0 0 0 0;\n",
              "      width: 32px;\n",
              "    }\n",
              "\n",
              "    .colab-df-convert:hover {\n",
              "      background-color: #E2EBFA;\n",
              "      box-shadow: 0px 1px 2px rgba(60, 64, 67, 0.3), 0px 1px 3px 1px rgba(60, 64, 67, 0.15);\n",
              "      fill: #174EA6;\n",
              "    }\n",
              "\n",
              "    [theme=dark] .colab-df-convert {\n",
              "      background-color: #3B4455;\n",
              "      fill: #D2E3FC;\n",
              "    }\n",
              "\n",
              "    [theme=dark] .colab-df-convert:hover {\n",
              "      background-color: #434B5C;\n",
              "      box-shadow: 0px 1px 3px 1px rgba(0, 0, 0, 0.15);\n",
              "      filter: drop-shadow(0px 1px 2px rgba(0, 0, 0, 0.3));\n",
              "      fill: #FFFFFF;\n",
              "    }\n",
              "  </style>\n",
              "\n",
              "      <script>\n",
              "        const buttonEl =\n",
              "          document.querySelector('#df-3c6893b8-1ff5-4569-aa14-715bbeafa64a button.colab-df-convert');\n",
              "        buttonEl.style.display =\n",
              "          google.colab.kernel.accessAllowed ? 'block' : 'none';\n",
              "\n",
              "        async function convertToInteractive(key) {\n",
              "          const element = document.querySelector('#df-3c6893b8-1ff5-4569-aa14-715bbeafa64a');\n",
              "          const dataTable =\n",
              "            await google.colab.kernel.invokeFunction('convertToInteractive',\n",
              "                                                     [key], {});\n",
              "          if (!dataTable) return;\n",
              "\n",
              "          const docLinkHtml = 'Like what you see? Visit the ' +\n",
              "            '<a target=\"_blank\" href=https://colab.research.google.com/notebooks/data_table.ipynb>data table notebook</a>'\n",
              "            + ' to learn more about interactive tables.';\n",
              "          element.innerHTML = '';\n",
              "          dataTable['output_type'] = 'display_data';\n",
              "          await google.colab.output.renderOutput(dataTable, element);\n",
              "          const docLink = document.createElement('div');\n",
              "          docLink.innerHTML = docLinkHtml;\n",
              "          element.appendChild(docLink);\n",
              "        }\n",
              "      </script>\n",
              "    </div>\n",
              "  </div>\n",
              "  "
            ],
            "text/plain": [
              "   Outlook Temp Wind Humidity Class\n",
              "0        R    H    F   Normal     N\n",
              "1        R    H    T     High     N\n",
              "2        O    H    F   Normal     Y\n",
              "3        S    M    F   Normal     N\n",
              "4        S    M    F   Normal     Y\n",
              "5        S    M    T      Low     Y\n",
              "6        O    C    T   Normal     Y\n",
              "7        R    C    F   Normal     Y\n",
              "8        R    C    F      Low     Y\n",
              "9        S    M    F     High     Y\n",
              "10       R    M    T     High     Y\n",
              "11       O    M    T      Low     Y\n",
              "12       O    H    F   Normal     Y\n",
              "13       S    M    T   Normal     N"
            ]
          },
          "metadata": {},
          "execution_count": 17
        }
      ],
      "source": [
        "import numpy as np\n",
        "import pandas as pd\n",
        "# from sklearn import preprocessing\n",
        "from sklearn.preprocessing import OneHotEncoder \n",
        "\n",
        "from sklearn.naive_bayes import GaussianNB, MultinomialNB\n",
        "\n",
        "datasets = pd.read_csv('Dataset2.csv')\n",
        "datasets"
      ]
    },
    {
      "cell_type": "code",
      "source": [
        "print(datasets.info())"
      ],
      "metadata": {
        "colab": {
          "base_uri": "https://localhost:8080/"
        },
        "id": "b6CfNXA7zrhN",
        "outputId": "9068e1df-eee6-4c43-d420-ff449608632e"
      },
      "execution_count": 18,
      "outputs": [
        {
          "output_type": "stream",
          "name": "stdout",
          "text": [
            "<class 'pandas.core.frame.DataFrame'>\n",
            "RangeIndex: 14 entries, 0 to 13\n",
            "Data columns (total 5 columns):\n",
            " #   Column    Non-Null Count  Dtype \n",
            "---  ------    --------------  ----- \n",
            " 0   Outlook   14 non-null     object\n",
            " 1   Temp      14 non-null     object\n",
            " 2   Wind      14 non-null     object\n",
            " 3   Humidity  14 non-null     object\n",
            " 4   Class     14 non-null     object\n",
            "dtypes: object(5)\n",
            "memory usage: 688.0+ bytes\n",
            "None\n"
          ]
        }
      ]
    },
    {
      "cell_type": "code",
      "source": [
        "x=datasets.iloc[:,:4].values\n",
        "y=datasets.iloc[:,-1].values\n",
        "\n",
        "print(\"INPUTS: \\n\",x)\n",
        "print(\"OUTPUT: \\n\",y)"
      ],
      "metadata": {
        "colab": {
          "base_uri": "https://localhost:8080/"
        },
        "id": "pUN_82yN0bCz",
        "outputId": "95803632-33f6-4bf9-ba13-21cf9b69aa2f"
      },
      "execution_count": 19,
      "outputs": [
        {
          "output_type": "stream",
          "name": "stdout",
          "text": [
            "INPUTS: \n",
            " [['R' 'H' 'F' 'Normal']\n",
            " ['R' 'H' 'T' 'High']\n",
            " ['O' 'H' 'F' 'Normal']\n",
            " ['S' 'M' 'F' 'Normal']\n",
            " ['S' 'M' 'F' 'Normal']\n",
            " ['S' 'M' 'T' 'Low']\n",
            " ['O' 'C' 'T' 'Normal']\n",
            " ['R' 'C' 'F' 'Normal']\n",
            " ['R' 'C' 'F' 'Low']\n",
            " ['S' 'M' 'F' 'High']\n",
            " ['R' 'M' 'T' 'High']\n",
            " ['O' 'M' 'T' 'Low']\n",
            " ['O' 'H' 'F' 'Normal']\n",
            " ['S' 'M' 'T' 'Normal']]\n",
            "OUTPUT: \n",
            " ['N' 'N' 'Y' 'N' 'Y' 'Y' 'Y' 'Y' 'Y' 'Y' 'Y' 'Y' 'Y' 'N']\n"
          ]
        }
      ]
    },
    {
      "cell_type": "code",
      "source": [
        "#Use One Hot Encoder from scikit learn\n",
        "onehotencoder = OneHotEncoder()\n",
        "\n",
        "#reshape the 1-D country array to 2-D as fit_transform expects 2-D and finally fit the object \n",
        "\n",
        "feature1=onehotencoder.fit_transform(datasets.Outlook.values.reshape(-1,1)).toarray()\n",
        "feature2=onehotencoder.fit_transform(datasets.Temp.values.reshape(-1,1)).toarray()\n",
        "feature3=onehotencoder.fit_transform(datasets.Wind.values.reshape(-1,1)).toarray()\n",
        "feature4=onehotencoder.fit_transform(datasets.Humidity.values.reshape(-1,1)).toarray()\n",
        "\n",
        "label = onehotencoder.fit_transform(datasets.Class.values.reshape(-1,1)).toarray()\n",
        "\n",
        "# print(feature1 ,\"\\n\")\n",
        "# print(feature2 ,\"\\n\")\n",
        "# print(feature3 ,\"\\n\")\n",
        "# print(feature4 ,\"\\n\")\n",
        "print(label ,\"\\n\")\n",
        "\n",
        "df1 = pd.DataFrame(feature1, columns=[\"Outlook_\"+str(int(i)) for i in range(len(feature1[0]))])\n",
        "df2 = pd.DataFrame(feature2, columns=[\"Temp_\"+str(int(i)) for i in range(len(feature2[0]))])\n",
        "df3 = pd.DataFrame(feature3, columns=[\"Wind_\"+str(int(i)) for i in range(len(feature3[0]))])\n",
        "df4 = pd.DataFrame(feature4, columns=[\"Humidity_\"+str(int(i)) for i in range(len(feature4[0]))])\n",
        "\n",
        "label = pd.DataFrame(label, columns=[\"Class_\" + str(int(i)) for i in range(len(label[0]))])\n",
        "\n",
        "print(label)\n",
        "\n",
        "df = pd.concat([df1, df2, df3, df4], axis=1)\n",
        "# print(df)\n",
        "df\n"
      ],
      "metadata": {
        "id": "2gFyGdrG2zaj",
        "colab": {
          "base_uri": "https://localhost:8080/",
          "height": 1000
        },
        "outputId": "d2eeae63-0fcb-4e46-b30f-87442dc429f3"
      },
      "execution_count": 20,
      "outputs": [
        {
          "output_type": "stream",
          "name": "stdout",
          "text": [
            "[[1. 0.]\n",
            " [1. 0.]\n",
            " [0. 1.]\n",
            " [1. 0.]\n",
            " [0. 1.]\n",
            " [0. 1.]\n",
            " [0. 1.]\n",
            " [0. 1.]\n",
            " [0. 1.]\n",
            " [0. 1.]\n",
            " [0. 1.]\n",
            " [0. 1.]\n",
            " [0. 1.]\n",
            " [1. 0.]] \n",
            "\n",
            "    Class_0  Class_1\n",
            "0       1.0      0.0\n",
            "1       1.0      0.0\n",
            "2       0.0      1.0\n",
            "3       1.0      0.0\n",
            "4       0.0      1.0\n",
            "5       0.0      1.0\n",
            "6       0.0      1.0\n",
            "7       0.0      1.0\n",
            "8       0.0      1.0\n",
            "9       0.0      1.0\n",
            "10      0.0      1.0\n",
            "11      0.0      1.0\n",
            "12      0.0      1.0\n",
            "13      1.0      0.0\n"
          ]
        },
        {
          "output_type": "execute_result",
          "data": {
            "text/html": [
              "\n",
              "  <div id=\"df-38a00983-f7db-47e3-b1ed-a092f1c2e5ca\">\n",
              "    <div class=\"colab-df-container\">\n",
              "      <div>\n",
              "<style scoped>\n",
              "    .dataframe tbody tr th:only-of-type {\n",
              "        vertical-align: middle;\n",
              "    }\n",
              "\n",
              "    .dataframe tbody tr th {\n",
              "        vertical-align: top;\n",
              "    }\n",
              "\n",
              "    .dataframe thead th {\n",
              "        text-align: right;\n",
              "    }\n",
              "</style>\n",
              "<table border=\"1\" class=\"dataframe\">\n",
              "  <thead>\n",
              "    <tr style=\"text-align: right;\">\n",
              "      <th></th>\n",
              "      <th>Outlook_0</th>\n",
              "      <th>Outlook_1</th>\n",
              "      <th>Outlook_2</th>\n",
              "      <th>Temp_0</th>\n",
              "      <th>Temp_1</th>\n",
              "      <th>Temp_2</th>\n",
              "      <th>Wind_0</th>\n",
              "      <th>Wind_1</th>\n",
              "      <th>Humidity_0</th>\n",
              "      <th>Humidity_1</th>\n",
              "      <th>Humidity_2</th>\n",
              "    </tr>\n",
              "  </thead>\n",
              "  <tbody>\n",
              "    <tr>\n",
              "      <th>0</th>\n",
              "      <td>0.0</td>\n",
              "      <td>1.0</td>\n",
              "      <td>0.0</td>\n",
              "      <td>0.0</td>\n",
              "      <td>1.0</td>\n",
              "      <td>0.0</td>\n",
              "      <td>1.0</td>\n",
              "      <td>0.0</td>\n",
              "      <td>0.0</td>\n",
              "      <td>0.0</td>\n",
              "      <td>1.0</td>\n",
              "    </tr>\n",
              "    <tr>\n",
              "      <th>1</th>\n",
              "      <td>0.0</td>\n",
              "      <td>1.0</td>\n",
              "      <td>0.0</td>\n",
              "      <td>0.0</td>\n",
              "      <td>1.0</td>\n",
              "      <td>0.0</td>\n",
              "      <td>0.0</td>\n",
              "      <td>1.0</td>\n",
              "      <td>1.0</td>\n",
              "      <td>0.0</td>\n",
              "      <td>0.0</td>\n",
              "    </tr>\n",
              "    <tr>\n",
              "      <th>2</th>\n",
              "      <td>1.0</td>\n",
              "      <td>0.0</td>\n",
              "      <td>0.0</td>\n",
              "      <td>0.0</td>\n",
              "      <td>1.0</td>\n",
              "      <td>0.0</td>\n",
              "      <td>1.0</td>\n",
              "      <td>0.0</td>\n",
              "      <td>0.0</td>\n",
              "      <td>0.0</td>\n",
              "      <td>1.0</td>\n",
              "    </tr>\n",
              "    <tr>\n",
              "      <th>3</th>\n",
              "      <td>0.0</td>\n",
              "      <td>0.0</td>\n",
              "      <td>1.0</td>\n",
              "      <td>0.0</td>\n",
              "      <td>0.0</td>\n",
              "      <td>1.0</td>\n",
              "      <td>1.0</td>\n",
              "      <td>0.0</td>\n",
              "      <td>0.0</td>\n",
              "      <td>0.0</td>\n",
              "      <td>1.0</td>\n",
              "    </tr>\n",
              "    <tr>\n",
              "      <th>4</th>\n",
              "      <td>0.0</td>\n",
              "      <td>0.0</td>\n",
              "      <td>1.0</td>\n",
              "      <td>0.0</td>\n",
              "      <td>0.0</td>\n",
              "      <td>1.0</td>\n",
              "      <td>1.0</td>\n",
              "      <td>0.0</td>\n",
              "      <td>0.0</td>\n",
              "      <td>0.0</td>\n",
              "      <td>1.0</td>\n",
              "    </tr>\n",
              "    <tr>\n",
              "      <th>5</th>\n",
              "      <td>0.0</td>\n",
              "      <td>0.0</td>\n",
              "      <td>1.0</td>\n",
              "      <td>0.0</td>\n",
              "      <td>0.0</td>\n",
              "      <td>1.0</td>\n",
              "      <td>0.0</td>\n",
              "      <td>1.0</td>\n",
              "      <td>0.0</td>\n",
              "      <td>1.0</td>\n",
              "      <td>0.0</td>\n",
              "    </tr>\n",
              "    <tr>\n",
              "      <th>6</th>\n",
              "      <td>1.0</td>\n",
              "      <td>0.0</td>\n",
              "      <td>0.0</td>\n",
              "      <td>1.0</td>\n",
              "      <td>0.0</td>\n",
              "      <td>0.0</td>\n",
              "      <td>0.0</td>\n",
              "      <td>1.0</td>\n",
              "      <td>0.0</td>\n",
              "      <td>0.0</td>\n",
              "      <td>1.0</td>\n",
              "    </tr>\n",
              "    <tr>\n",
              "      <th>7</th>\n",
              "      <td>0.0</td>\n",
              "      <td>1.0</td>\n",
              "      <td>0.0</td>\n",
              "      <td>1.0</td>\n",
              "      <td>0.0</td>\n",
              "      <td>0.0</td>\n",
              "      <td>1.0</td>\n",
              "      <td>0.0</td>\n",
              "      <td>0.0</td>\n",
              "      <td>0.0</td>\n",
              "      <td>1.0</td>\n",
              "    </tr>\n",
              "    <tr>\n",
              "      <th>8</th>\n",
              "      <td>0.0</td>\n",
              "      <td>1.0</td>\n",
              "      <td>0.0</td>\n",
              "      <td>1.0</td>\n",
              "      <td>0.0</td>\n",
              "      <td>0.0</td>\n",
              "      <td>1.0</td>\n",
              "      <td>0.0</td>\n",
              "      <td>0.0</td>\n",
              "      <td>1.0</td>\n",
              "      <td>0.0</td>\n",
              "    </tr>\n",
              "    <tr>\n",
              "      <th>9</th>\n",
              "      <td>0.0</td>\n",
              "      <td>0.0</td>\n",
              "      <td>1.0</td>\n",
              "      <td>0.0</td>\n",
              "      <td>0.0</td>\n",
              "      <td>1.0</td>\n",
              "      <td>1.0</td>\n",
              "      <td>0.0</td>\n",
              "      <td>1.0</td>\n",
              "      <td>0.0</td>\n",
              "      <td>0.0</td>\n",
              "    </tr>\n",
              "    <tr>\n",
              "      <th>10</th>\n",
              "      <td>0.0</td>\n",
              "      <td>1.0</td>\n",
              "      <td>0.0</td>\n",
              "      <td>0.0</td>\n",
              "      <td>0.0</td>\n",
              "      <td>1.0</td>\n",
              "      <td>0.0</td>\n",
              "      <td>1.0</td>\n",
              "      <td>1.0</td>\n",
              "      <td>0.0</td>\n",
              "      <td>0.0</td>\n",
              "    </tr>\n",
              "    <tr>\n",
              "      <th>11</th>\n",
              "      <td>1.0</td>\n",
              "      <td>0.0</td>\n",
              "      <td>0.0</td>\n",
              "      <td>0.0</td>\n",
              "      <td>0.0</td>\n",
              "      <td>1.0</td>\n",
              "      <td>0.0</td>\n",
              "      <td>1.0</td>\n",
              "      <td>0.0</td>\n",
              "      <td>1.0</td>\n",
              "      <td>0.0</td>\n",
              "    </tr>\n",
              "    <tr>\n",
              "      <th>12</th>\n",
              "      <td>1.0</td>\n",
              "      <td>0.0</td>\n",
              "      <td>0.0</td>\n",
              "      <td>0.0</td>\n",
              "      <td>1.0</td>\n",
              "      <td>0.0</td>\n",
              "      <td>1.0</td>\n",
              "      <td>0.0</td>\n",
              "      <td>0.0</td>\n",
              "      <td>0.0</td>\n",
              "      <td>1.0</td>\n",
              "    </tr>\n",
              "    <tr>\n",
              "      <th>13</th>\n",
              "      <td>0.0</td>\n",
              "      <td>0.0</td>\n",
              "      <td>1.0</td>\n",
              "      <td>0.0</td>\n",
              "      <td>0.0</td>\n",
              "      <td>1.0</td>\n",
              "      <td>0.0</td>\n",
              "      <td>1.0</td>\n",
              "      <td>0.0</td>\n",
              "      <td>0.0</td>\n",
              "      <td>1.0</td>\n",
              "    </tr>\n",
              "  </tbody>\n",
              "</table>\n",
              "</div>\n",
              "      <button class=\"colab-df-convert\" onclick=\"convertToInteractive('df-38a00983-f7db-47e3-b1ed-a092f1c2e5ca')\"\n",
              "              title=\"Convert this dataframe to an interactive table.\"\n",
              "              style=\"display:none;\">\n",
              "        \n",
              "  <svg xmlns=\"http://www.w3.org/2000/svg\" height=\"24px\"viewBox=\"0 0 24 24\"\n",
              "       width=\"24px\">\n",
              "    <path d=\"M0 0h24v24H0V0z\" fill=\"none\"/>\n",
              "    <path d=\"M18.56 5.44l.94 2.06.94-2.06 2.06-.94-2.06-.94-.94-2.06-.94 2.06-2.06.94zm-11 1L8.5 8.5l.94-2.06 2.06-.94-2.06-.94L8.5 2.5l-.94 2.06-2.06.94zm10 10l.94 2.06.94-2.06 2.06-.94-2.06-.94-.94-2.06-.94 2.06-2.06.94z\"/><path d=\"M17.41 7.96l-1.37-1.37c-.4-.4-.92-.59-1.43-.59-.52 0-1.04.2-1.43.59L10.3 9.45l-7.72 7.72c-.78.78-.78 2.05 0 2.83L4 21.41c.39.39.9.59 1.41.59.51 0 1.02-.2 1.41-.59l7.78-7.78 2.81-2.81c.8-.78.8-2.07 0-2.86zM5.41 20L4 18.59l7.72-7.72 1.47 1.35L5.41 20z\"/>\n",
              "  </svg>\n",
              "      </button>\n",
              "      \n",
              "  <style>\n",
              "    .colab-df-container {\n",
              "      display:flex;\n",
              "      flex-wrap:wrap;\n",
              "      gap: 12px;\n",
              "    }\n",
              "\n",
              "    .colab-df-convert {\n",
              "      background-color: #E8F0FE;\n",
              "      border: none;\n",
              "      border-radius: 50%;\n",
              "      cursor: pointer;\n",
              "      display: none;\n",
              "      fill: #1967D2;\n",
              "      height: 32px;\n",
              "      padding: 0 0 0 0;\n",
              "      width: 32px;\n",
              "    }\n",
              "\n",
              "    .colab-df-convert:hover {\n",
              "      background-color: #E2EBFA;\n",
              "      box-shadow: 0px 1px 2px rgba(60, 64, 67, 0.3), 0px 1px 3px 1px rgba(60, 64, 67, 0.15);\n",
              "      fill: #174EA6;\n",
              "    }\n",
              "\n",
              "    [theme=dark] .colab-df-convert {\n",
              "      background-color: #3B4455;\n",
              "      fill: #D2E3FC;\n",
              "    }\n",
              "\n",
              "    [theme=dark] .colab-df-convert:hover {\n",
              "      background-color: #434B5C;\n",
              "      box-shadow: 0px 1px 3px 1px rgba(0, 0, 0, 0.15);\n",
              "      filter: drop-shadow(0px 1px 2px rgba(0, 0, 0, 0.3));\n",
              "      fill: #FFFFFF;\n",
              "    }\n",
              "  </style>\n",
              "\n",
              "      <script>\n",
              "        const buttonEl =\n",
              "          document.querySelector('#df-38a00983-f7db-47e3-b1ed-a092f1c2e5ca button.colab-df-convert');\n",
              "        buttonEl.style.display =\n",
              "          google.colab.kernel.accessAllowed ? 'block' : 'none';\n",
              "\n",
              "        async function convertToInteractive(key) {\n",
              "          const element = document.querySelector('#df-38a00983-f7db-47e3-b1ed-a092f1c2e5ca');\n",
              "          const dataTable =\n",
              "            await google.colab.kernel.invokeFunction('convertToInteractive',\n",
              "                                                     [key], {});\n",
              "          if (!dataTable) return;\n",
              "\n",
              "          const docLinkHtml = 'Like what you see? Visit the ' +\n",
              "            '<a target=\"_blank\" href=https://colab.research.google.com/notebooks/data_table.ipynb>data table notebook</a>'\n",
              "            + ' to learn more about interactive tables.';\n",
              "          element.innerHTML = '';\n",
              "          dataTable['output_type'] = 'display_data';\n",
              "          await google.colab.output.renderOutput(dataTable, element);\n",
              "          const docLink = document.createElement('div');\n",
              "          docLink.innerHTML = docLinkHtml;\n",
              "          element.appendChild(docLink);\n",
              "        }\n",
              "      </script>\n",
              "    </div>\n",
              "  </div>\n",
              "  "
            ],
            "text/plain": [
              "    Outlook_0  Outlook_1  Outlook_2  ...  Humidity_0  Humidity_1  Humidity_2\n",
              "0         0.0        1.0        0.0  ...         0.0         0.0         1.0\n",
              "1         0.0        1.0        0.0  ...         1.0         0.0         0.0\n",
              "2         1.0        0.0        0.0  ...         0.0         0.0         1.0\n",
              "3         0.0        0.0        1.0  ...         0.0         0.0         1.0\n",
              "4         0.0        0.0        1.0  ...         0.0         0.0         1.0\n",
              "5         0.0        0.0        1.0  ...         0.0         1.0         0.0\n",
              "6         1.0        0.0        0.0  ...         0.0         0.0         1.0\n",
              "7         0.0        1.0        0.0  ...         0.0         0.0         1.0\n",
              "8         0.0        1.0        0.0  ...         0.0         1.0         0.0\n",
              "9         0.0        0.0        1.0  ...         1.0         0.0         0.0\n",
              "10        0.0        1.0        0.0  ...         1.0         0.0         0.0\n",
              "11        1.0        0.0        0.0  ...         0.0         1.0         0.0\n",
              "12        1.0        0.0        0.0  ...         0.0         0.0         1.0\n",
              "13        0.0        0.0        1.0  ...         0.0         0.0         1.0\n",
              "\n",
              "[14 rows x 11 columns]"
            ]
          },
          "metadata": {},
          "execution_count": 20
        }
      ]
    },
    {
      "cell_type": "code",
      "source": [
        "#combine all columns and create one feature\n",
        "\n",
        "# features = tuple(zip(feature1, feature2, feature3, feature4))\n",
        "\n",
        "features = df.iloc[:,:].values\n",
        "\n",
        "print(features)"
      ],
      "metadata": {
        "colab": {
          "base_uri": "https://localhost:8080/"
        },
        "id": "PHPgs-ugKWGg",
        "outputId": "815799f5-44b9-4f30-9486-b3003d327abf"
      },
      "execution_count": 21,
      "outputs": [
        {
          "output_type": "stream",
          "name": "stdout",
          "text": [
            "[[0. 1. 0. 0. 1. 0. 1. 0. 0. 0. 1.]\n",
            " [0. 1. 0. 0. 1. 0. 0. 1. 1. 0. 0.]\n",
            " [1. 0. 0. 0. 1. 0. 1. 0. 0. 0. 1.]\n",
            " [0. 0. 1. 0. 0. 1. 1. 0. 0. 0. 1.]\n",
            " [0. 0. 1. 0. 0. 1. 1. 0. 0. 0. 1.]\n",
            " [0. 0. 1. 0. 0. 1. 0. 1. 0. 1. 0.]\n",
            " [1. 0. 0. 1. 0. 0. 0. 1. 0. 0. 1.]\n",
            " [0. 1. 0. 1. 0. 0. 1. 0. 0. 0. 1.]\n",
            " [0. 1. 0. 1. 0. 0. 1. 0. 0. 1. 0.]\n",
            " [0. 0. 1. 0. 0. 1. 1. 0. 1. 0. 0.]\n",
            " [0. 1. 0. 0. 0. 1. 0. 1. 1. 0. 0.]\n",
            " [1. 0. 0. 0. 0. 1. 0. 1. 0. 1. 0.]\n",
            " [1. 0. 0. 0. 1. 0. 1. 0. 0. 0. 1.]\n",
            " [0. 0. 1. 0. 0. 1. 0. 1. 0. 0. 1.]]\n"
          ]
        }
      ]
    },
    {
      "cell_type": "markdown",
      "source": [
        "###**Use Multinomial Naive Bayes Algo.**"
      ],
      "metadata": {
        "id": "H1LAvLCpLa3H"
      }
    },
    {
      "cell_type": "code",
      "source": [
        "from sklearn.model_selection import train_test_split\n",
        "\n",
        "X_train, X_test, Y_train, Y_test = train_test_split(df, y, test_size=.20, random_state=0)\n",
        "\n",
        "print(\"X_train:-\\n\", X_train)\n",
        "print(\"X_test:-\\n\", X_test)\n",
        "print(\"Y_train:-\\n\", Y_train)\n",
        "print(\"Y_test:-\\n\", Y_test)\n",
        "\n",
        "model = MultinomialNB()\n",
        "model.fit(X_train, Y_train)\n",
        "\n",
        "predicted= model.predict(X_test)\n",
        "print(\"\\nPredicted Value:\", predicted)"
      ],
      "metadata": {
        "id": "o7HNiArNLkl3",
        "colab": {
          "base_uri": "https://localhost:8080/"
        },
        "outputId": "e500e206-c825-45f0-d0be-cfb93b600712"
      },
      "execution_count": 22,
      "outputs": [
        {
          "output_type": "stream",
          "name": "stdout",
          "text": [
            "X_train:-\n",
            "     Outlook_0  Outlook_1  Outlook_2  ...  Humidity_0  Humidity_1  Humidity_2\n",
            "11        1.0        0.0        0.0  ...         0.0         1.0         0.0\n",
            "2         1.0        0.0        0.0  ...         0.0         0.0         1.0\n",
            "13        0.0        0.0        1.0  ...         0.0         0.0         1.0\n",
            "9         0.0        0.0        1.0  ...         1.0         0.0         0.0\n",
            "1         0.0        1.0        0.0  ...         1.0         0.0         0.0\n",
            "7         0.0        1.0        0.0  ...         0.0         0.0         1.0\n",
            "10        0.0        1.0        0.0  ...         1.0         0.0         0.0\n",
            "3         0.0        0.0        1.0  ...         0.0         0.0         1.0\n",
            "0         0.0        1.0        0.0  ...         0.0         0.0         1.0\n",
            "5         0.0        0.0        1.0  ...         0.0         1.0         0.0\n",
            "12        1.0        0.0        0.0  ...         0.0         0.0         1.0\n",
            "\n",
            "[11 rows x 11 columns]\n",
            "X_test:-\n",
            "    Outlook_0  Outlook_1  Outlook_2  ...  Humidity_0  Humidity_1  Humidity_2\n",
            "8        0.0        1.0        0.0  ...         0.0         1.0         0.0\n",
            "6        1.0        0.0        0.0  ...         0.0         0.0         1.0\n",
            "4        0.0        0.0        1.0  ...         0.0         0.0         1.0\n",
            "\n",
            "[3 rows x 11 columns]\n",
            "Y_train:-\n",
            " ['Y' 'Y' 'N' 'Y' 'N' 'Y' 'Y' 'N' 'N' 'Y' 'Y']\n",
            "Y_test:-\n",
            " ['Y' 'Y' 'Y']\n",
            "\n",
            "Predicted Value: ['Y' 'Y' 'Y']\n"
          ]
        }
      ]
    },
    {
      "cell_type": "markdown",
      "source": [
        "# **Task 2: Apply algorithm on wine dataset - LabelEncoding of features: and Train test Division 80%-20%**"
      ],
      "metadata": {
        "id": "FSbw_HqOMtGB"
      }
    },
    {
      "cell_type": "code",
      "source": [
        "import numpy as numpy\n",
        "from sklearn import datasets\n",
        "from sklearn.naive_bayes import GaussianNB\n",
        "\n",
        "wine = datasets.load_wine()"
      ],
      "metadata": {
        "id": "qsbsPl-WNF7Q"
      },
      "execution_count": 23,
      "outputs": []
    },
    {
      "cell_type": "code",
      "source": [
        "print(\"Features: \", wine.feature_names)\n",
        "\n",
        "print(\"Labels: \", wine.target_names)\n",
        "\n",
        "print(\"\\nData shape: \", wine.data.shape)\n",
        "\n",
        "print(\"\\nTarget shape: \", wine.target.shape)\n",
        "\n",
        "print(\"\\nData type: \", type(wine.data))\n",
        "\n",
        "newdata = wine.data[: , :]\n",
        "newtarget = wine.target[:]\n",
        "\n",
        "print(\"\\nNew Data shape: \", newdata.shape)\n",
        "print(\"\\nNew Target shape: \", newtarget.shape)"
      ],
      "metadata": {
        "id": "It8fqjVTNmkc",
        "colab": {
          "base_uri": "https://localhost:8080/"
        },
        "outputId": "770c0bfa-355a-4adb-8719-f52640a968db"
      },
      "execution_count": 24,
      "outputs": [
        {
          "output_type": "stream",
          "name": "stdout",
          "text": [
            "Features:  ['alcohol', 'malic_acid', 'ash', 'alcalinity_of_ash', 'magnesium', 'total_phenols', 'flavanoids', 'nonflavanoid_phenols', 'proanthocyanins', 'color_intensity', 'hue', 'od280/od315_of_diluted_wines', 'proline']\n",
            "Labels:  ['class_0' 'class_1' 'class_2']\n",
            "\n",
            "Data shape:  (178, 13)\n",
            "\n",
            "Target shape:  (178,)\n",
            "\n",
            "Data type:  <class 'numpy.ndarray'>\n",
            "\n",
            "New Data shape:  (178, 13)\n",
            "\n",
            "New Target shape:  (178,)\n"
          ]
        }
      ]
    },
    {
      "cell_type": "code",
      "source": [
        "from sklearn.model_selection import train_test_split\n",
        "\n",
        "data_train, data_test, target_train, target_test = train_test_split(wine.data, wine.target, test_size=0.2, random_state=10)"
      ],
      "metadata": {
        "id": "AkTgFiQIO445"
      },
      "execution_count": 25,
      "outputs": []
    },
    {
      "cell_type": "code",
      "source": [
        "print(data_train.shape) #which is 80% of 178\n",
        "print(data_test.shape) #which is 20% of 178 "
      ],
      "metadata": {
        "id": "1yvK5h8tPTnw",
        "colab": {
          "base_uri": "https://localhost:8080/"
        },
        "outputId": "ba7bd246-b324-4ba2-9e62-5874aec68c01"
      },
      "execution_count": 26,
      "outputs": [
        {
          "output_type": "stream",
          "name": "stdout",
          "text": [
            "(142, 13)\n",
            "(36, 13)\n"
          ]
        }
      ]
    },
    {
      "cell_type": "code",
      "source": [
        "import numpy as np\n",
        "gnb = GaussianNB()\n",
        "\n",
        "gnb.fit(data_train, target_train)\n",
        "\n",
        "target_pred = gnb.predict(data_test)\n",
        "\n",
        "print(target_pred)"
      ],
      "metadata": {
        "id": "7IbAK3o6QMbD",
        "colab": {
          "base_uri": "https://localhost:8080/"
        },
        "outputId": "f4e2bdad-06dc-41d7-bf40-27ac185a79fa"
      },
      "execution_count": 27,
      "outputs": [
        {
          "output_type": "stream",
          "name": "stdout",
          "text": [
            "[1 1 0 1 0 1 1 0 2 0 0 0 0 2 1 1 2 1 1 2 0 2 0 0 1 2 1 2 1 1 2 2 2 2 1 0]\n"
          ]
        }
      ]
    },
    {
      "cell_type": "markdown",
      "source": [
        "**Find Accuracy using metrics**"
      ],
      "metadata": {
        "id": "PTD0277uRcaI"
      }
    },
    {
      "cell_type": "code",
      "source": [
        "from sklearn import metrics\n",
        "\n",
        "print(\"Accuracy:\", metrics.accuracy_score(target_test, target_pred))"
      ],
      "metadata": {
        "id": "tM-cMqJlQqXj",
        "colab": {
          "base_uri": "https://localhost:8080/"
        },
        "outputId": "fb82a13f-b852-4ad3-a365-82c8ef681794"
      },
      "execution_count": 28,
      "outputs": [
        {
          "output_type": "stream",
          "name": "stdout",
          "text": [
            "Accuracy: 0.8888888888888888\n"
          ]
        }
      ]
    },
    {
      "cell_type": "markdown",
      "source": [
        "**Find Confusion Matrix**"
      ],
      "metadata": {
        "id": "QdMUosztRipd"
      }
    },
    {
      "cell_type": "code",
      "source": [
        "from sklearn.metrics import confusion_matrix\n",
        "\n",
        "confusion_matrix(target_test, target_pred)"
      ],
      "metadata": {
        "id": "-WzR6TWVRNl7",
        "colab": {
          "base_uri": "https://localhost:8080/"
        },
        "outputId": "dc14fcfb-fd2a-4ff8-e549-266ac9abc9de"
      },
      "execution_count": 29,
      "outputs": [
        {
          "output_type": "execute_result",
          "data": {
            "text/plain": [
              "array([[10,  0,  0],\n",
              "       [ 1, 14,  3],\n",
              "       [ 0,  0,  8]])"
            ]
          },
          "metadata": {},
          "execution_count": 29
        }
      ]
    },
    {
      "cell_type": "markdown",
      "source": [
        "**Find Precision Call & Recall**"
      ],
      "metadata": {
        "id": "QE8O986BRp3u"
      }
    },
    {
      "cell_type": "code",
      "source": [
        "from sklearn.metrics import precision_score\n",
        "from sklearn.metrics import recall_score\n",
        "\n",
        "precision = precision_score(target_test, target_pred, average=None)\n",
        "print('Precison: {}'.format(precision))\n",
        "\n",
        "recall = recall_score(target_test, target_pred, average=None)\n",
        "print('Recall: {}'.format(recall))"
      ],
      "metadata": {
        "id": "u_hf8KkJRvM8",
        "colab": {
          "base_uri": "https://localhost:8080/"
        },
        "outputId": "c0935383-d41f-44d2-a1e8-b197befce9e9"
      },
      "execution_count": 30,
      "outputs": [
        {
          "output_type": "stream",
          "name": "stdout",
          "text": [
            "Precison: [0.90909091 1.         0.72727273]\n",
            "Recall: [1.         0.77777778 1.        ]\n"
          ]
        }
      ]
    }
  ]
}