{
  "nbformat": 4,
  "nbformat_minor": 0,
  "metadata": {
    "colab": {
      "name": "ML_Lab4_CE089.ipynb",
      "provenance": []
    },
    "kernelspec": {
      "name": "python3",
      "display_name": "Python 3"
    },
    "language_info": {
      "name": "python"
    }
  },
  "cells": [
    {
      "cell_type": "markdown",
      "source": [
        "**Aim: Implement Linear Regression Algorithm on the given dataset.**"
      ],
      "metadata": {
        "id": "mEVhA_S5v69q"
      }
    },
    {
      "cell_type": "markdown",
      "source": [
        "**Exercise 1: Try Linear Regression just using numpy (Without Tensorflow/Pytorch or other torch\n",
        "library). You can optionally use sklearn (if you want)**"
      ],
      "metadata": {
        "id": "dFIsBgrHZVJP"
      }
    },
    {
      "cell_type": "code",
      "source": [
        "# Import Numpy & PyTorch\n",
        "\n",
        "import torch.nn as nn\n",
        "import numpy as np\n",
        "import torch\n",
        "from numpy.core.fromnumeric import mean"
      ],
      "metadata": {
        "id": "o4zC7CSmZYwm"
      },
      "execution_count": null,
      "outputs": []
    },
    {
      "cell_type": "code",
      "source": [
        "# Input (temp, rainfall, humidity)\n",
        "inputs = np.array([[73, 67, 43],\n",
        "                  [91, 88, 64],\n",
        "                  [87, 134, 58],\n",
        "                  [102, 43, 37],\n",
        "                  [69, 96, 70]], dtype='float32')\n",
        "\n",
        "\n",
        "# Target (apples)\n",
        "targets = np.array([[56],\n",
        "                    [81],\n",
        "                    [119],\n",
        "                    [22],\n",
        "                    [103]], dtype='float32')\n",
        "\n",
        "# Convert inputs and targets to tensors\n",
        "inputs = torch.from_numpy(inputs)\n",
        "targets = torch.from_numpy(targets)\n",
        "print(inputs)\n",
        "print(targets)"
      ],
      "metadata": {
        "colab": {
          "base_uri": "https://localhost:8080/"
        },
        "id": "h_-EwTDeZor4",
        "outputId": "398a6c8f-9f9f-488e-fdfe-5113ce4f5452"
      },
      "execution_count": null,
      "outputs": [
        {
          "output_type": "stream",
          "name": "stdout",
          "text": [
            "tensor([[ 73.,  67.,  43.],\n",
            "        [ 91.,  88.,  64.],\n",
            "        [ 87., 134.,  58.],\n",
            "        [102.,  43.,  37.],\n",
            "        [ 69.,  96.,  70.]])\n",
            "tensor([[ 56.],\n",
            "        [ 81.],\n",
            "        [119.],\n",
            "        [ 22.],\n",
            "        [103.]])\n"
          ]
        }
      ]
    },
    {
      "cell_type": "code",
      "source": [
        "# Weights and biases\n",
        "w = torch.randn(1, 3, requires_grad=True)\n",
        "b = torch.randn(1, requires_grad=True)\n",
        "\n",
        "print(\"Weights is: \\n\\t\",w)\n",
        "\n",
        "print(\"Bias is: \\n\\t\",b)"
      ],
      "metadata": {
        "colab": {
          "base_uri": "https://localhost:8080/"
        },
        "id": "4h0UxFtfZsz_",
        "outputId": "8a3ea570-f889-4ad4-e821-953dc7ae7792"
      },
      "execution_count": null,
      "outputs": [
        {
          "output_type": "stream",
          "name": "stdout",
          "text": [
            "Weights is: \n",
            "\t tensor([[-0.9126, -1.9460, -0.4973]], requires_grad=True)\n",
            "Bias is: \n",
            "\t tensor([0.8117], requires_grad=True)\n"
          ]
        }
      ]
    },
    {
      "cell_type": "code",
      "source": [
        "#Defining the model\n",
        "def model(x):\n",
        "    return  torch.mm(x,w.t(),out=None)+b"
      ],
      "metadata": {
        "id": "cw6WCn9jcey2"
      },
      "execution_count": null,
      "outputs": []
    },
    {
      "cell_type": "code",
      "source": [
        "#Generate Predictions\n",
        "pred=model(inputs)\n",
        "print(\"Prediction is :\\n\",pred)\n",
        "\n",
        "#Compare with targets\n",
        "print(\"Target is:\\n\",targets)"
      ],
      "metadata": {
        "colab": {
          "base_uri": "https://localhost:8080/"
        },
        "id": "nB3JYGICcpU9",
        "outputId": "c7aa175c-99ed-401e-8d4b-e0869281ba85"
      },
      "execution_count": null,
      "outputs": [
        {
          "output_type": "stream",
          "name": "stdout",
          "text": [
            "Prediction is :\n",
            " tensor([[-217.5669],\n",
            "        [-285.3007],\n",
            "        [-368.1806],\n",
            "        [-194.3449],\n",
            "        [-283.7754]], grad_fn=<AddBackward0>)\n",
            "Target is:\n",
            " tensor([[ 56.],\n",
            "        [ 81.],\n",
            "        [119.],\n",
            "        [ 22.],\n",
            "        [103.]])\n"
          ]
        }
      ]
    },
    {
      "cell_type": "code",
      "source": [
        "# MSE loss\n",
        "def MseLoss(P,T):\n",
        "  sum=0\n",
        "  for j in range(0,len(T)):\n",
        "    sum += (T[j]-P[j])*(T[j]-P[j])\n",
        "  return sum/len(T)\n",
        "\n",
        "Loss=MseLoss(pred,targets)\n",
        "print(\"MSE Loss is:\\n\",Loss)    "
      ],
      "metadata": {
        "colab": {
          "base_uri": "https://localhost:8080/"
        },
        "id": "gWdfB5yigjIL",
        "outputId": "6a55014c-8b1a-4592-fa77-633581f618ee"
      },
      "execution_count": null,
      "outputs": [
        {
          "output_type": "stream",
          "name": "stdout",
          "text": [
            "MSE Loss is:\n",
            " tensor([128552.0469], grad_fn=<DivBackward0>)\n"
          ]
        }
      ]
    },
    {
      "cell_type": "code",
      "source": [
        "#Computing Gradients\n",
        "Loss.backward()\n",
        "\n",
        "#Gradients for Weights\n",
        "print(\"Gradient for Weights is:\\n\",w.grad)\n",
        "\n",
        "#Gradients for Bias\n",
        "print(\"Gradient for Bias is :\\n\",b.grad)"
      ],
      "metadata": {
        "colab": {
          "base_uri": "https://localhost:8080/"
        },
        "id": "d03e_5GQglgM",
        "outputId": "274b19d0-9768-4b3c-85da-eb2fa38e495b"
      },
      "execution_count": null,
      "outputs": [
        {
          "output_type": "stream",
          "name": "stdout",
          "text": [
            "Gradient for Weights is:\n",
            " tensor([[-57777.2578, -64911.5625, -39416.8516]])\n",
            "Gradient for Bias is :\n",
            " tensor([-692.0674])\n"
          ]
        }
      ]
    },
    {
      "cell_type": "code",
      "source": [
        "# Adjust weights and Bias & reset gradients\n",
        "with torch.no_grad():\n",
        "    w -= w.grad * 1e-5\n",
        "    b -= b.grad * 1e-5\n",
        "    w.grad.zero_()\n",
        "    b.grad.zero_()\n",
        "print(\"Gradients for weights: \\n\\t\",w.grad)\n",
        "print(\"Gradients for Bias:\\n\\t\",b.grad)\n",
        "print(\"New weights:\\n\\t\",w)\n",
        "print(\"New bias:\\n\\t\",b)"
      ],
      "metadata": {
        "colab": {
          "base_uri": "https://localhost:8080/"
        },
        "id": "R_leUYvrjGA2",
        "outputId": "00b5efb3-d1e4-4a2c-bc54-90091f913095"
      },
      "execution_count": null,
      "outputs": [
        {
          "output_type": "stream",
          "name": "stdout",
          "text": [
            "Gradients for weights: \n",
            "\t tensor([[0., 0., 0.]])\n",
            "Gradients for Bias:\n",
            "\t tensor([0.])\n",
            "New weights:\n",
            "\t tensor([[-0.3348, -1.2968, -0.1031]], requires_grad=True)\n",
            "New bias:\n",
            "\t tensor([0.8186], requires_grad=True)\n"
          ]
        }
      ]
    },
    {
      "cell_type": "code",
      "source": [
        "#calculate new Loss\n",
        "new_pred=model(inputs)\n",
        "new_loss = MseLoss(new_pred, targets)\n",
        "print(\"New Loss is:\\n\\t\",new_loss)"
      ],
      "metadata": {
        "colab": {
          "base_uri": "https://localhost:8080/"
        },
        "id": "clds1fwmmCXr",
        "outputId": "83c4d4b2-e642-4d77-d02d-c6f18208a894"
      },
      "execution_count": null,
      "outputs": [
        {
          "output_type": "stream",
          "name": "stdout",
          "text": [
            "New Loss is:\n",
            "\t tensor([53794.7930], grad_fn=<DivBackward0>)\n"
          ]
        }
      ]
    },
    {
      "cell_type": "code",
      "source": [
        "# Train for 100 epochs\n",
        "for i in range(100):\n",
        "    preds = model(inputs)\n",
        "    loss = MseLoss(preds, targets)\n",
        "    loss.backward()\n",
        "    with torch.no_grad():\n",
        "        w -= w.grad * 1e-5\n",
        "        b -= b.grad * 1e-5\n",
        "        w.grad.zero_()\n",
        "        b.grad.zero_()"
      ],
      "metadata": {
        "id": "myu5WBEMmNFz"
      },
      "execution_count": null,
      "outputs": []
    },
    {
      "cell_type": "code",
      "source": [
        "# Calculate  new loss\n",
        "preds = model(inputs)\n",
        "loss = MseLoss(preds, targets)\n",
        "print(\"Loss is:\\n\\t\",loss)"
      ],
      "metadata": {
        "colab": {
          "base_uri": "https://localhost:8080/"
        },
        "id": "HlUlZ0xymQNS",
        "outputId": "c748c36e-2b57-4349-ab5e-a9bbfef7ccdf"
      },
      "execution_count": null,
      "outputs": [
        {
          "output_type": "stream",
          "name": "stdout",
          "text": [
            "Loss is:\n",
            "\t tensor([114.8353], grad_fn=<DivBackward0>)\n"
          ]
        }
      ]
    },
    {
      "cell_type": "markdown",
      "source": [
        "**Exercise 2: Try Linear regression on same prediction data using Tensorflow**"
      ],
      "metadata": {
        "id": "usQxF7EfohVr"
      }
    },
    {
      "cell_type": "code",
      "source": [
        "#Input(Temp,Rainfall,humidity)\n",
        "inputs = np.array([[73, 67, 43],\n",
        "                  [91, 88, 64],\n",
        "                  [87, 134, 58],\n",
        "                  [102, 43, 37],\n",
        "                  [69, 96, 70]], dtype='float32')\n",
        "\n",
        "#Target(Apples)\n",
        "targets = np.array([[56],\n",
        "                    [81],\n",
        "                    [119],\n",
        "                    [22],\n",
        "                    [103]], dtype='float32')\n",
        "\n",
        "# Convert inputs and targets to tensors\n",
        "inputs = torch.from_numpy(inputs)\n",
        "targets = torch.from_numpy(targets)"
      ],
      "metadata": {
        "id": "fBJkDYxNoi_S"
      },
      "execution_count": null,
      "outputs": []
    },
    {
      "cell_type": "code",
      "source": [
        "# Weights and biases\n",
        "w = torch.randn(1, 3, requires_grad=True)\n",
        "b = torch.randn(1, requires_grad=True)\n",
        "\n",
        "print(\"Weights is: \\n\\t\",w)\n",
        "\n",
        "print(\"Bias is: \\n\\t\",b)"
      ],
      "metadata": {
        "colab": {
          "base_uri": "https://localhost:8080/"
        },
        "id": "aRvtWknooqyk",
        "outputId": "056407cd-c093-4cb2-8868-afb229a66ef1"
      },
      "execution_count": null,
      "outputs": [
        {
          "output_type": "stream",
          "name": "stdout",
          "text": [
            "Weights is: \n",
            "\t tensor([[1.5356, 0.9105, 0.0985]], requires_grad=True)\n",
            "Bias is: \n",
            "\t tensor([0.9327], requires_grad=True)\n"
          ]
        }
      ]
    },
    {
      "cell_type": "code",
      "source": [
        "#Defining the model\n",
        "def model(x):\n",
        "    return  x @ w.t()+b"
      ],
      "metadata": {
        "id": "_QmXpe1CouGe"
      },
      "execution_count": null,
      "outputs": []
    },
    {
      "cell_type": "code",
      "source": [
        "#Generate Predictions\n",
        "preds=model(inputs)\n",
        "print(\"Prediction is :\\n\",preds)\n",
        "\n",
        "#Compare with targets\n",
        "print(\"Target is:\\n\",targets)"
      ],
      "metadata": {
        "colab": {
          "base_uri": "https://localhost:8080/"
        },
        "id": "5n5nY01PowNz",
        "outputId": "eb6018a9-dc43-4178-cf2c-b959c994e09b"
      },
      "execution_count": null,
      "outputs": [
        {
          "output_type": "stream",
          "name": "stdout",
          "text": [
            "Prediction is :\n",
            " tensor([[178.2655],\n",
            "        [227.0937],\n",
            "        [262.2416],\n",
            "        [200.3556],\n",
            "        [201.1854]], grad_fn=<AddBackward0>)\n",
            "Target is:\n",
            " tensor([[ 56.],\n",
            "        [ 81.],\n",
            "        [119.],\n",
            "        [ 22.],\n",
            "        [103.]])\n"
          ]
        }
      ]
    },
    {
      "cell_type": "code",
      "source": [
        "mseloss = nn.MSELoss()\n",
        "loss = mseloss(preds, targets)\n",
        "loss.backward()\n",
        "print(\"Loss:\\n\\t\",loss)\n",
        "\n",
        "#Computing Gradients\n",
        "print(\"Gradients for weights:\\n\\t\",w.grad)\n",
        "print(\"Gradients for Bias:\\n\\t\",b.grad)\n"
      ],
      "metadata": {
        "colab": {
          "base_uri": "https://localhost:8080/"
        },
        "id": "SOg4UvzLoxmK",
        "outputId": "e05a6e41-4e5b-48e0-ee19-7a9c5abca410"
      },
      "execution_count": null,
      "outputs": [
        {
          "output_type": "stream",
          "name": "stdout",
          "text": [
            "Loss:\n",
            "\t tensor(19652.2969, grad_fn=<MseLossBackward0>)\n",
            "Gradients for weights:\n",
            "\t tensor([[23859.5977, 22935.0000, 14555.0254]])\n",
            "Gradients for Bias:\n",
            "\t tensor([275.2567])\n"
          ]
        }
      ]
    },
    {
      "cell_type": "code",
      "source": [
        "# Train for 100 epochs\n",
        "for i in range(100):\n",
        "    preds = model(inputs)\n",
        "    loss = mseloss(preds, targets)\n",
        "    loss.backward()\n",
        "    with torch.no_grad():\n",
        "        w -= w.grad * 1e-5\n",
        "        b -= b.grad * 1e-5\n",
        "        w.grad.zero_()\n",
        "        b.grad.zero_()"
      ],
      "metadata": {
        "id": "tHjE2wAAozA6"
      },
      "execution_count": null,
      "outputs": []
    },
    {
      "cell_type": "code",
      "source": [
        "# Calculate  new loss\n",
        "preds = model(inputs)\n",
        "loss = mseloss(preds, targets)\n",
        "print(\"Loss is:\",loss)"
      ],
      "metadata": {
        "colab": {
          "base_uri": "https://localhost:8080/"
        },
        "id": "c_3YTmKmo0lL",
        "outputId": "ce0062d9-7125-4569-853a-b17ea429da06"
      },
      "execution_count": null,
      "outputs": [
        {
          "output_type": "stream",
          "name": "stdout",
          "text": [
            "Loss is: tensor(165.5763, grad_fn=<MseLossBackward0>)\n"
          ]
        }
      ]
    }
  ]
}