{
  "nbformat": 4,
  "nbformat_minor": 0,
  "metadata": {
    "colab": {
      "name": "Lab11_01_Solution.ipynb",
      "provenance": [],
      "collapsed_sections": []
    },
    "kernelspec": {
      "name": "python3",
      "display_name": "Python 3"
    },
    "language_info": {
      "name": "python"
    }
  },
  "cells": [
    {
      "cell_type": "code",
      "execution_count": 1,
      "metadata": {
        "id": "FpcVdCPie6mB"
      },
      "outputs": [],
      "source": [
        "import sys,os\n",
        "import matplotlib.pyplot as plt\n",
        "from sklearn import svm,metrics\n",
        "from sklearn.model_selection import train_test_split\n",
        "import numpy as np\n",
        "from sklearn.datasets import load_digits"
      ]
    },
    {
      "cell_type": "code",
      "source": [
        "digits = load_digits()\n",
        "digits.data.shape"
      ],
      "metadata": {
        "colab": {
          "base_uri": "https://localhost:8080/"
        },
        "id": "dN7MMvkosMyq",
        "outputId": "0e552f74-a66b-40e0-e1a0-5e8763803589"
      },
      "execution_count": 2,
      "outputs": [
        {
          "output_type": "execute_result",
          "data": {
            "text/plain": [
              "(1797, 64)"
            ]
          },
          "metadata": {},
          "execution_count": 2
        }
      ]
    },
    {
      "cell_type": "code",
      "source": [
        "print(digits.target)"
      ],
      "metadata": {
        "colab": {
          "base_uri": "https://localhost:8080/"
        },
        "id": "DKx4coDYsNxY",
        "outputId": "7fd057a1-c59f-42a0-9cec-68dfaaa78404"
      },
      "execution_count": 3,
      "outputs": [
        {
          "output_type": "stream",
          "name": "stdout",
          "text": [
            "[0 1 2 ... 8 9 8]\n"
          ]
        }
      ]
    },
    {
      "cell_type": "code",
      "source": [
        "X_train, X_test, y_train, y_test = train_test_split(digits.data, digits.target, test_size = 0.2 ,random_state = 77)"
      ],
      "metadata": {
        "id": "8FzQlrBwsRMP"
      },
      "execution_count": 4,
      "outputs": []
    },
    {
      "cell_type": "markdown",
      "source": [
        "**LINEAR SVM CLASSIFIER**"
      ],
      "metadata": {
        "id": "Yx4KBR6LsZL1"
      }
    },
    {
      "cell_type": "code",
      "source": [
        "lsc = svm.SVC(kernel='linear')"
      ],
      "metadata": {
        "id": "yOZJUFUQsXOo"
      },
      "execution_count": 5,
      "outputs": []
    },
    {
      "cell_type": "code",
      "source": [
        "#Train Classifier\n",
        "lsc.fit(X_train, y_train)"
      ],
      "metadata": {
        "colab": {
          "base_uri": "https://localhost:8080/"
        },
        "id": "nPp93T_vsfUe",
        "outputId": "bd486443-bca6-432e-90e4-ad1eb7a78698"
      },
      "execution_count": 6,
      "outputs": [
        {
          "output_type": "execute_result",
          "data": {
            "text/plain": [
              "SVC(kernel='linear')"
            ]
          },
          "metadata": {},
          "execution_count": 6
        }
      ]
    },
    {
      "cell_type": "code",
      "source": [
        "lin_y_pred = lsc.predict(X_test)"
      ],
      "metadata": {
        "id": "4osqvp_cskVO"
      },
      "execution_count": 7,
      "outputs": []
    },
    {
      "cell_type": "code",
      "source": [
        "print(\"Accuracy:\", metrics.accuracy_score(y_test, lin_y_pred))"
      ],
      "metadata": {
        "colab": {
          "base_uri": "https://localhost:8080/"
        },
        "id": "Xpd-GDfusvvK",
        "outputId": "2467e3e0-7d4a-40b7-d651-85581059a59b"
      },
      "execution_count": 8,
      "outputs": [
        {
          "output_type": "stream",
          "name": "stdout",
          "text": [
            "Accuracy: 0.9833333333333333\n"
          ]
        }
      ]
    },
    {
      "cell_type": "markdown",
      "source": [
        "**RBF SVM CLASSIFIER**"
      ],
      "metadata": {
        "id": "htnRnBSws_vc"
      }
    },
    {
      "cell_type": "code",
      "source": [
        "rbf_svm = svm.SVC(kernel='rbf')"
      ],
      "metadata": {
        "id": "997vmWhts9Yu"
      },
      "execution_count": 9,
      "outputs": []
    },
    {
      "cell_type": "code",
      "source": [
        "#Train Classifier\n",
        "rbf_svm.fit(X_train, y_train)"
      ],
      "metadata": {
        "colab": {
          "base_uri": "https://localhost:8080/"
        },
        "id": "36p54a9ltHhs",
        "outputId": "41f7048d-9612-4f94-a0f7-e3d414f22a69"
      },
      "execution_count": 10,
      "outputs": [
        {
          "output_type": "execute_result",
          "data": {
            "text/plain": [
              "SVC()"
            ]
          },
          "metadata": {},
          "execution_count": 10
        }
      ]
    },
    {
      "cell_type": "code",
      "source": [
        "rbf_y_pred = rbf_svm.predict(X_test)"
      ],
      "metadata": {
        "id": "rjQnbImStKLz"
      },
      "execution_count": 11,
      "outputs": []
    },
    {
      "cell_type": "code",
      "source": [
        "print(\"Accuracy:\", metrics.accuracy_score(y_test, rbf_y_pred))"
      ],
      "metadata": {
        "colab": {
          "base_uri": "https://localhost:8080/"
        },
        "id": "dy19EDkptNgv",
        "outputId": "1401ba6d-1517-4615-81f8-708e560562f1"
      },
      "execution_count": 12,
      "outputs": [
        {
          "output_type": "stream",
          "name": "stdout",
          "text": [
            "Accuracy: 0.9944444444444445\n"
          ]
        }
      ]
    },
    {
      "cell_type": "markdown",
      "source": [
        "**POLYNOMAIL SVM CLASSIFIER**"
      ],
      "metadata": {
        "id": "-RI7R7-qtUSV"
      }
    },
    {
      "cell_type": "code",
      "source": [
        "p_svm = svm.SVC(kernel='poly')"
      ],
      "metadata": {
        "id": "nqJE6MEgtRWm"
      },
      "execution_count": 13,
      "outputs": []
    },
    {
      "cell_type": "code",
      "source": [
        "p_svm.fit(X_train, y_train)"
      ],
      "metadata": {
        "colab": {
          "base_uri": "https://localhost:8080/"
        },
        "id": "OCbvEtx4taLg",
        "outputId": "790abff6-f012-4933-abc4-bee38d7e0324"
      },
      "execution_count": 14,
      "outputs": [
        {
          "output_type": "execute_result",
          "data": {
            "text/plain": [
              "SVC(kernel='poly')"
            ]
          },
          "metadata": {},
          "execution_count": 14
        }
      ]
    },
    {
      "cell_type": "code",
      "source": [
        "poly_y_pred = p_svm.predict(X_test)"
      ],
      "metadata": {
        "id": "V0bl8EeFtcW5"
      },
      "execution_count": 15,
      "outputs": []
    },
    {
      "cell_type": "code",
      "source": [
        "print(\"Accuracy:\", metrics.accuracy_score(y_test, poly_y_pred))"
      ],
      "metadata": {
        "colab": {
          "base_uri": "https://localhost:8080/"
        },
        "id": "YqEFN3Mqtflc",
        "outputId": "30dab61d-dd33-492e-b30d-27603fd11f5e"
      },
      "execution_count": 16,
      "outputs": [
        {
          "output_type": "stream",
          "name": "stdout",
          "text": [
            "Accuracy: 0.9972222222222222\n"
          ]
        }
      ]
    }
  ]
}