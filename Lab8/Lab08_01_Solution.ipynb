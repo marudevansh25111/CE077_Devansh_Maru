{
  "cells": [
    {
      "cell_type": "markdown",
      "metadata": {
        "id": "rHSwCisQ4ouP"
      },
      "source": [
        "Try this on full spam1.csv file and unigram matching"
      ]
    },
    {
      "cell_type": "markdown",
      "metadata": {
        "id": "kcJ5BY552WO0"
      },
      "source": [
        "Spam classification using Count Vectorization and TFIDf Vectorization"
      ]
    },
    {
      "cell_type": "code",
      "execution_count": 2,
      "metadata": {
        "id": "9kjMxkDkcrGZ"
      },
      "outputs": [],
      "source": [
        "import pandas as pd\n",
        "from sklearn.feature_extraction.text import CountVectorizer\n",
        "from sklearn.preprocessing import LabelEncoder"
      ]
    },
    {
      "cell_type": "code",
      "execution_count": 3,
      "metadata": {
        "id": "f9blU4Dsc78P"
      },
      "outputs": [],
      "source": [
        "stopwords = [\"a\", \"about\", \"above\", \"after\", \"again\", \"against\", \"all\", \"am\",\n",
        "\"an\", \"and\", \"any\", \"are\", \"as\", \"at\", \"be\", \"because\", \"been\", \"before\",\n",
        "\"being\", \"below\", \"between\", \"both\", \"but\", \"by\", \"could\", \"did\", \"do\",\n",
        "\"does\", \"doing\", \"down\", \"during\", \"each\", \"few\", \"for\", \"from\", \"further\",\n",
        "\"had\", \"has\", \"have\", \"having\", \"he\", \"he'd\", \"he'll\", \"he's\", \"her\", \"here\",\n",
        "\"here's\", \"hers\", \"herself\", \"him\", \"himself\", \"his\", \"how\", \"how's\", \"i\",\n",
        "\"i'd\", \"i'll\", \"i'm\", \"i've\", \"if\", \"in\", \"into\", \"is\", \"it\", \"it's\", \"its\",\n",
        "\"itself\", \"let's\", \"me\", \"more\", \"most\", \"my\", \"myself\", \"nor\", \"of\", \"on\",\n",
        "\"once\", \"only\", \"or\", \"other\", \"ought\", \"our\", \"ours\", \"ourselves\", \"out\",\n",
        "\"over\", \"own\", \"same\", \"she\", \"she'd\", \"she'll\", \"she's\", \"should\", \"so\",\n",
        "\"some\", \"such\", \"than\", \"that\", \"that's\", \"the\", \"their\", \"theirs\", \"them\",\n",
        "\"themselves\", \"then\", \"there\", \"there's\", \"these\", \"they\", \"they'd\",\n",
        "\"they'll\", \"they're\", \"they've\", \"this\", \"those\", \"through\", \"to\", \"too\",\n",
        "\"under\", \"until\", \"up\", \"very\", \"was\", \"we\", \"we'd\", \"we'll\", \"we're\",\n",
        "\"we've\", \"were\", \"what\", \"what's\", \"when\", \"when's\", \"where\", \"where's\",\n",
        "\"which\", \"while\", \"who\", \"who's\", \"whom\", \"why\", \"why's\", \"with\", \"would\",\n",
        "\"you\", \"you'd\", \"you'll\", \"you're\", \"you've\", \"your\", \"yours\", \"yourself\",\n",
        "\"yourselves\"]"
      ]
    },
    {
      "cell_type": "code",
      "execution_count": 4,
      "metadata": {
        "colab": {
          "base_uri": "https://localhost:8080/"
        },
        "id": "U21UDmxwdECh",
        "outputId": "a1e4c622-5db7-4669-dda6-b6042160b168"
      },
      "outputs": [
        {
          "output_type": "stream",
          "name": "stdout",
          "text": [
            "\n",
            "Data :\n",
            "     v1                                                 v2\n",
            "0    1  Free entry in 2 a wkly comp to win FA Cup fina...\n",
            "1    1  FreeMsg Hey there darling it's been 3 week's n...\n",
            "2    1  WINNER!! As a valued network customer you have...\n",
            "3    1  Had your mobile 11 months or more? U R entitle...\n",
            "4    1  SIX chances to win CASH! From 100 to 20,000 po...\n",
            "5    1  URGENT! You have won a 1 week FREE membership ...\n",
            "6    1  XXXMobileMovieClub: To use your credit, click ...\n",
            "7    1  England v Macedonia - dont miss the goals/team...\n",
            "8    1  Thanks for your subscription to Ringtone UK yo...\n",
            "9    1  07732584351 - Rodger Burns - MSG = We tried to...\n",
            "10   1  SMS. ac Sptv: The New Jersey Devils and the De...\n",
            "11   1  Congrats! 1 year special cinema pass for 2 is ...\n",
            "12   1  As a valued customer, I am pleased to advise y...\n",
            "13   1  Urgent UR awarded a complimentary trip to Euro...\n",
            "14   1  Did you hear about the new \\Divorce Barbie\\\"? ...\n",
            "15   1  Please call our customer service representativ...\n",
            "16   1  Your free ringtone is waiting to be collected....\n",
            "17   1  GENT! We are trying to contact you. Last weeke...\n",
            "18   1  You are a winner U have been specially selecte...\n",
            "19   1  PRIVATE! Your 2004 Account Statement for 07742...\n"
          ]
        }
      ],
      "source": [
        "from sklearn import preprocessing\n",
        "import numpy as np\n",
        "datasets = pd.read_csv('/content/drive/MyDrive/ML/spam1.csv', encoding=\"ISO-8859-1\")\n",
        "datasets[\"v1\"]=np.where(datasets[\"v1\"]=='spam',1,0)\n",
        "print(\"\\nData :\\n\",datasets.head(20))"
      ]
    },
    {
      "cell_type": "code",
      "execution_count": 5,
      "metadata": {
        "colab": {
          "base_uri": "https://localhost:8080/"
        },
        "id": "opvvouGrdckg",
        "outputId": "c84c3304-bd33-4710-b2e3-f5e695e10f14"
      },
      "outputs": [
        {
          "output_type": "execute_result",
          "data": {
            "text/plain": [
              "(129,)"
            ]
          },
          "metadata": {},
          "execution_count": 5
        }
      ],
      "source": [
        "from sklearn.model_selection import train_test_split\n",
        "X_train, X_test, y_train, y_test = train_test_split(datasets[\"v2\"], datasets[\"v1\"],random_state=77)\n",
        "X_test.shape"
      ]
    },
    {
      "cell_type": "markdown",
      "metadata": {
        "id": "k15Sq8WRydf-"
      },
      "source": [
        "CountVectorizer\n",
        "\n",
        "\n",
        "Perform count vectorization on training data."
      ]
    },
    {
      "cell_type": "code",
      "execution_count": 6,
      "metadata": {
        "colab": {
          "base_uri": "https://localhost:8080/"
        },
        "id": "bq4bVHK6di2s",
        "outputId": "685494cd-afcb-4ecc-8bde-47343a65feaa"
      },
      "outputs": [
        {
          "output_type": "stream",
          "name": "stdout",
          "text": [
            "[[0 0 0 ... 0 0 0]\n",
            " [0 0 0 ... 0 0 0]\n",
            " [0 0 0 ... 0 0 0]\n",
            " ...\n",
            " [0 0 0 ... 0 0 0]\n",
            " [0 0 0 ... 0 0 0]\n",
            " [0 0 0 ... 0 0 0]]\n"
          ]
        },
        {
          "output_type": "stream",
          "name": "stderr",
          "text": [
            "/usr/local/lib/python3.7/dist-packages/sklearn/feature_extraction/text.py:401: UserWarning: Your stop_words may be inconsistent with your preprocessing. Tokenizing the stop words generated tokens ['let', 'll', 're', 've'] not in stop_words.\n",
            "  % sorted(inconsistent)\n"
          ]
        }
      ],
      "source": [
        "vectorizer = CountVectorizer(ngram_range = (1, 1),stop_words=stopwords)\n",
        "vectorizer.fit(X_train)\n",
        "X_train_vectorized = vectorizer.fit_transform(X_train)\n",
        "print(X_train_vectorized.toarray())\n"
      ]
    },
    {
      "cell_type": "code",
      "source": [
        "from google.colab import drive\n",
        "drive.mount('/content/drive')"
      ],
      "metadata": {
        "colab": {
          "base_uri": "https://localhost:8080/"
        },
        "id": "xLjg7j4_Vt8P",
        "outputId": "a6e00279-cd25-4637-a253-e3f7422de655"
      },
      "execution_count": 7,
      "outputs": [
        {
          "output_type": "stream",
          "name": "stdout",
          "text": [
            "Drive already mounted at /content/drive; to attempt to forcibly remount, call drive.mount(\"/content/drive\", force_remount=True).\n"
          ]
        }
      ]
    },
    {
      "cell_type": "code",
      "execution_count": 8,
      "metadata": {
        "colab": {
          "base_uri": "https://localhost:8080/"
        },
        "id": "AoT69Lv-dl-T",
        "outputId": "79c794cf-3f25-462f-bbf6-35344caea32f"
      },
      "outputs": [
        {
          "output_type": "execute_result",
          "data": {
            "text/plain": [
              "MultinomialNB()"
            ]
          },
          "metadata": {},
          "execution_count": 8
        }
      ],
      "source": [
        "from sklearn.naive_bayes import MultinomialNB\n",
        "from sklearn.metrics import accuracy_score\n",
        "model=MultinomialNB()\n",
        "model.fit(X_train_vectorized,y_train)"
      ]
    },
    {
      "cell_type": "code",
      "execution_count": 9,
      "metadata": {
        "colab": {
          "base_uri": "https://localhost:8080/"
        },
        "id": "KmT4ZJIxy1Tf",
        "outputId": "1acacda7-c241-495f-f097-f5d209ac7032"
      },
      "outputs": [
        {
          "output_type": "stream",
          "name": "stdout",
          "text": [
            "Accuracy:  0.9844961240310077\n",
            "\n",
            "Precision:  1.0\n",
            "\n",
            "Recall:  0.9574468085106383\n"
          ]
        }
      ],
      "source": [
        "from sklearn.metrics import accuracy_score, precision_score, recall_score\n",
        "predictions = model.predict(vectorizer.transform(X_test))\n",
        "\n",
        "print(\"Accuracy: \", accuracy_score(y_test, predictions))\n",
        "print(\"\\nPrecision: \", precision_score(y_test, predictions))\n",
        "print(\"\\nRecall: \", recall_score(y_test, predictions))"
      ]
    },
    {
      "cell_type": "markdown",
      "metadata": {
        "id": "VTOQVNkTzTNK"
      },
      "source": [
        "Apply the Decision Tree Classifier on vectorized data."
      ]
    },
    {
      "cell_type": "code",
      "execution_count": 10,
      "metadata": {
        "colab": {
          "base_uri": "https://localhost:8080/"
        },
        "id": "Wg6Ug6DIzSSY",
        "outputId": "51ee9919-4dff-4891-bcba-cb9eb1d1c555"
      },
      "outputs": [
        {
          "output_type": "execute_result",
          "data": {
            "text/plain": [
              "DecisionTreeClassifier()"
            ]
          },
          "metadata": {},
          "execution_count": 10
        }
      ],
      "source": [
        "from sklearn.tree import DecisionTreeClassifier\n",
        "clf = DecisionTreeClassifier()\n",
        "clf.fit(X_train_vectorized, y_train)"
      ]
    },
    {
      "cell_type": "code",
      "execution_count": 11,
      "metadata": {
        "colab": {
          "base_uri": "https://localhost:8080/"
        },
        "id": "IxW8lZaCzfpo",
        "outputId": "41b8f76f-1192-4695-cfeb-5d40dac43ecc"
      },
      "outputs": [
        {
          "output_type": "stream",
          "name": "stdout",
          "text": [
            "Accuracy:  0.9534883720930233\n",
            "\n",
            "Precision:  1.0\n",
            "\n",
            "Recall:  0.8723404255319149\n"
          ]
        }
      ],
      "source": [
        "from sklearn.metrics import accuracy_score, precision_score, recall_score\n",
        "predictions = clf.predict(vectorizer.transform(X_test))\n",
        "\n",
        "print(\"Accuracy: \", accuracy_score(y_test, predictions))\n",
        "print(\"\\nPrecision: \", precision_score(y_test, predictions))\n",
        "print(\"\\nRecall: \", recall_score(y_test, predictions))"
      ]
    },
    {
      "cell_type": "markdown",
      "metadata": {
        "id": "ApfVqzCu2OB3"
      },
      "source": [
        "TFIDF Vectorizer\n",
        "\n",
        "\n",
        "Perform IFIDF vectorization on training data."
      ]
    },
    {
      "cell_type": "code",
      "execution_count": 12,
      "metadata": {
        "colab": {
          "base_uri": "https://localhost:8080/"
        },
        "id": "OgzTG3-l2UCF",
        "outputId": "d25a121f-3eb0-4229-b75c-d6e7945dcfd6"
      },
      "outputs": [
        {
          "output_type": "stream",
          "name": "stdout",
          "text": [
            "[[0. 0. 0. ... 0. 0. 0.]\n",
            " [0. 0. 0. ... 0. 0. 0.]\n",
            " [0. 0. 0. ... 0. 0. 0.]\n",
            " ...\n",
            " [0. 0. 0. ... 0. 0. 0.]\n",
            " [0. 0. 0. ... 0. 0. 0.]\n",
            " [0. 0. 0. ... 0. 0. 0.]]\n"
          ]
        },
        {
          "output_type": "stream",
          "name": "stderr",
          "text": [
            "/usr/local/lib/python3.7/dist-packages/sklearn/feature_extraction/text.py:401: UserWarning: Your stop_words may be inconsistent with your preprocessing. Tokenizing the stop words generated tokens ['let', 'll', 're', 've'] not in stop_words.\n",
            "  % sorted(inconsistent)\n"
          ]
        }
      ],
      "source": [
        "from sklearn.feature_extraction.text import TfidfVectorizer\n",
        "\n",
        "vectorizer = TfidfVectorizer(ngram_range = (1, 1),stop_words = stopwords)\n",
        "vectorizer.fit(X_train)\n",
        "X_train_tfidf_vectorized = vectorizer.transform(X_train)\n",
        "print(X_train_tfidf_vectorized.toarray())"
      ]
    },
    {
      "cell_type": "markdown",
      "metadata": {
        "id": "o_lQkG2P3N6g"
      },
      "source": [
        "\n",
        "Apply the Naive Bayes on IFIDF vectorized data."
      ]
    },
    {
      "cell_type": "code",
      "execution_count": 13,
      "metadata": {
        "colab": {
          "base_uri": "https://localhost:8080/"
        },
        "id": "xE8QckeL3NiT",
        "outputId": "d7b38f3b-e3df-42ec-f865-450363dddb29"
      },
      "outputs": [
        {
          "output_type": "execute_result",
          "data": {
            "text/plain": [
              "MultinomialNB()"
            ]
          },
          "metadata": {},
          "execution_count": 13
        }
      ],
      "source": [
        "model = MultinomialNB()\n",
        "model.fit(X_train_tfidf_vectorized, y_train)"
      ]
    },
    {
      "cell_type": "code",
      "execution_count": 14,
      "metadata": {
        "colab": {
          "base_uri": "https://localhost:8080/"
        },
        "id": "98Wki1OV3a7R",
        "outputId": "e2ce1c7d-715d-4009-d50c-127ae5cb16cc"
      },
      "outputs": [
        {
          "output_type": "stream",
          "name": "stdout",
          "text": [
            "Accuracy:  0.9457364341085271\n",
            "\n",
            "Precision:  1.0\n",
            "\n",
            "Recall:  0.851063829787234\n"
          ]
        }
      ],
      "source": [
        "predictions = model.predict(vectorizer.transform(X_test))\n",
        "\n",
        "print(\"Accuracy: \", accuracy_score(y_test, predictions))\n",
        "print(\"\\nPrecision: \", precision_score(y_test, predictions))\n",
        "print(\"\\nRecall: \", recall_score(y_test, predictions))"
      ]
    },
    {
      "cell_type": "markdown",
      "metadata": {
        "id": "6iQUmaIb3pKs"
      },
      "source": [
        "Apply the Decision Tree Classifier on IFIDF vectorized data."
      ]
    },
    {
      "cell_type": "code",
      "execution_count": 15,
      "metadata": {
        "colab": {
          "base_uri": "https://localhost:8080/"
        },
        "id": "Vermn96X3o4-",
        "outputId": "03cc6abe-7c36-4c06-dca4-bdc2d0e56bc6"
      },
      "outputs": [
        {
          "output_type": "execute_result",
          "data": {
            "text/plain": [
              "DecisionTreeClassifier()"
            ]
          },
          "metadata": {},
          "execution_count": 15
        }
      ],
      "source": [
        "from sklearn.tree import DecisionTreeClassifier\n",
        "clf = DecisionTreeClassifier()\n",
        "clf.fit(X_train_tfidf_vectorized, y_train)"
      ]
    },
    {
      "cell_type": "code",
      "execution_count": 16,
      "metadata": {
        "colab": {
          "base_uri": "https://localhost:8080/"
        },
        "id": "XmbgnjIK3yvg",
        "outputId": "eea2923a-27e9-4ccf-ed86-b75f0abddf12"
      },
      "outputs": [
        {
          "output_type": "stream",
          "name": "stdout",
          "text": [
            "Accuracy:  0.9147286821705426\n",
            "\n",
            "Precision:  0.9285714285714286\n",
            "\n",
            "Recall:  0.8297872340425532\n"
          ]
        }
      ],
      "source": [
        "predictions = clf.predict(vectorizer.transform(X_test))\n",
        "\n",
        "print(\"Accuracy: \", accuracy_score(y_test, predictions))\n",
        "print(\"\\nPrecision: \", precision_score(y_test, predictions))\n",
        "print(\"\\nRecall: \", recall_score(y_test, predictions))"
      ]
    }
  ],
  "metadata": {
    "colab": {
      "collapsed_sections": [],
      "name": "Lab08_01_Solution.ipynb",
      "provenance": []
    },
    "kernelspec": {
      "display_name": "Python 3",
      "name": "python3"
    },
    "language_info": {
      "name": "python"
    }
  },
  "nbformat": 4,
  "nbformat_minor": 0
}